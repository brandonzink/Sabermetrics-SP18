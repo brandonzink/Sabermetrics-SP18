{
 "cells": [
  {
   "cell_type": "markdown",
   "metadata": {},
   "source": [
    "# Lecture 19: Scoring runs at Coors Field\n",
    "***\n",
    "\n",
    "In this notebook, we'll work on comparing runs scored at different ballparks and times by comparing the distributions of the data.\n",
    "\n",
    "Start by loading Numpy and Pandas using their common aliases, np and pd. "
   ]
  },
  {
   "cell_type": "code",
   "execution_count": 49,
   "metadata": {},
   "outputs": [
    {
     "data": {
      "text/html": [
       "<div>\n",
       "<style>\n",
       "    .dataframe thead tr:only-child th {\n",
       "        text-align: right;\n",
       "    }\n",
       "\n",
       "    .dataframe thead th {\n",
       "        text-align: left;\n",
       "    }\n",
       "\n",
       "    .dataframe tbody tr th {\n",
       "        vertical-align: top;\n",
       "    }\n",
       "</style>\n",
       "<table border=\"1\" class=\"dataframe\">\n",
       "  <thead>\n",
       "    <tr style=\"text-align: right;\">\n",
       "      <th></th>\n",
       "      <th>game_id</th>\n",
       "      <th>year_id</th>\n",
       "      <th>game_dt</th>\n",
       "      <th>homeTeam</th>\n",
       "      <th>awayTeam</th>\n",
       "      <th>ballpark</th>\n",
       "      <th>awayScore</th>\n",
       "      <th>homeScore</th>\n",
       "      <th>totalRuns</th>\n",
       "    </tr>\n",
       "  </thead>\n",
       "  <tbody>\n",
       "    <tr>\n",
       "      <th>0</th>\n",
       "      <td>ANA200004030</td>\n",
       "      <td>2000</td>\n",
       "      <td>403</td>\n",
       "      <td>ANA</td>\n",
       "      <td>NYA</td>\n",
       "      <td>ANA01</td>\n",
       "      <td>3</td>\n",
       "      <td>2</td>\n",
       "      <td>5</td>\n",
       "    </tr>\n",
       "    <tr>\n",
       "      <th>1</th>\n",
       "      <td>ANA200004040</td>\n",
       "      <td>2000</td>\n",
       "      <td>404</td>\n",
       "      <td>ANA</td>\n",
       "      <td>NYA</td>\n",
       "      <td>ANA01</td>\n",
       "      <td>5</td>\n",
       "      <td>3</td>\n",
       "      <td>8</td>\n",
       "    </tr>\n",
       "    <tr>\n",
       "      <th>2</th>\n",
       "      <td>ANA200004050</td>\n",
       "      <td>2000</td>\n",
       "      <td>405</td>\n",
       "      <td>ANA</td>\n",
       "      <td>NYA</td>\n",
       "      <td>ANA01</td>\n",
       "      <td>6</td>\n",
       "      <td>12</td>\n",
       "      <td>18</td>\n",
       "    </tr>\n",
       "    <tr>\n",
       "      <th>3</th>\n",
       "      <td>ANA200004070</td>\n",
       "      <td>2000</td>\n",
       "      <td>407</td>\n",
       "      <td>ANA</td>\n",
       "      <td>BOS</td>\n",
       "      <td>ANA01</td>\n",
       "      <td>3</td>\n",
       "      <td>7</td>\n",
       "      <td>10</td>\n",
       "    </tr>\n",
       "    <tr>\n",
       "      <th>4</th>\n",
       "      <td>ANA200004080</td>\n",
       "      <td>2000</td>\n",
       "      <td>408</td>\n",
       "      <td>ANA</td>\n",
       "      <td>BOS</td>\n",
       "      <td>ANA01</td>\n",
       "      <td>5</td>\n",
       "      <td>7</td>\n",
       "      <td>12</td>\n",
       "    </tr>\n",
       "  </tbody>\n",
       "</table>\n",
       "</div>"
      ],
      "text/plain": [
       "        game_id  year_id  game_dt homeTeam awayTeam ballpark  awayScore  \\\n",
       "0  ANA200004030     2000      403      ANA      NYA    ANA01          3   \n",
       "1  ANA200004040     2000      404      ANA      NYA    ANA01          5   \n",
       "2  ANA200004050     2000      405      ANA      NYA    ANA01          6   \n",
       "3  ANA200004070     2000      407      ANA      BOS    ANA01          3   \n",
       "4  ANA200004080     2000      408      ANA      BOS    ANA01          5   \n",
       "\n",
       "   homeScore  totalRuns  \n",
       "0          2          5  \n",
       "1          3          8  \n",
       "2         12         18  \n",
       "3          7         10  \n",
       "4          7         12  "
      ]
     },
     "execution_count": 49,
     "metadata": {},
     "output_type": "execute_result"
    }
   ],
   "source": [
    "import numpy as np \n",
    "import pandas as pd\n",
    "import matplotlib.pylab as plt\n",
    "%matplotlib inline\n",
    "from scipy.stats import ttest_ind\n",
    "from scipy import stats\n",
    "\n",
    "local_path = 'runsForLeagueAndCoorsField2.csv'\n",
    "\n",
    "# Select the path that works for you \n",
    "file_path = local_path \n",
    "\n",
    "# Load the data into a DataFrame \n",
    "dfTW= pd.read_csv(file_path)\n",
    "\n",
    "# Inspect some of the data\n",
    "dfTW.head()"
   ]
  },
  {
   "cell_type": "markdown",
   "metadata": {},
   "source": [
    "The run total for all games between 2000-2009 are in a file called runsForLeagueAndCoorsField2000.csv, is on Moodle.\n",
    "We can load the data into a Pandas DataFrame using read_csv( ). You may need to change the file_path variable to point to the correct location. If you want 2000-2013 data, you can combine the data frames from that file and runForLeagueAndCoorsField.csv"
   ]
  },
  {
   "cell_type": "markdown",
   "metadata": {},
   "source": [
    "The data has columns for: \n",
    "\n",
    "- **gameID**: Retrosheet game identifier \n",
    "- **yearID**: Year \n",
    "- **game_dt**: Year, month, day the game was played\n",
    "- **homeTeam**: Home team ID\n",
    "- **awayTeam**: Away team ID\n",
    "- **ballpark**: Ballpark ID where game was played\n",
    "- **awayScore**: Runs scored by away team\n",
    "- **homeScore**: Runs score by home team\n",
    "- **totalRuns**: Total runs scored in the game"
   ]
  },
  {
   "cell_type": "markdown",
   "metadata": {},
   "source": [
    "### Exercise 1 - Testing for steroids\n",
    "***\n",
    "MLB instituted steroid testing in 2003. Did it have a measurable effect on offense? Calculate the descriptive statistics for 2000-2003 and 2004-2009. I've already plotted the results here. Is there a difference?"
   ]
  },
  {
   "cell_type": "code",
   "execution_count": 50,
   "metadata": {},
   "outputs": [
    {
     "name": "stdout",
     "output_type": "stream",
     "text": [
      "count    9852.000000\n",
      "mean        9.614089\n",
      "std         4.718389\n",
      "min         1.000000\n",
      "25%         6.000000\n",
      "50%         9.000000\n",
      "75%        13.000000\n",
      "max        33.000000\n",
      "Name: totalRuns, dtype: float64 count    14761.000000\n",
      "mean         9.434049\n",
      "std          4.575474\n",
      "min          1.000000\n",
      "25%          6.000000\n",
      "50%          9.000000\n",
      "75%         12.000000\n",
      "max         36.000000\n",
      "Name: totalRuns, dtype: float64\n"
     ]
    }
   ],
   "source": [
    "df2000 = dfTW.loc[dfTW[\"year_id\"] < 2004].copy()\n",
    "df2004 = dfTW.loc[dfTW[\"year_id\"] >= 2004].copy()\n",
    "\n",
    "print (df2000['totalRuns'].describe(), df2004['totalRuns'].describe())"
   ]
  },
  {
   "cell_type": "markdown",
   "metadata": {},
   "source": [
    "**Comments go here:** All of the descriptive stats seem to be within a reasonable range of one another, where the mean drops <.2 runs from the 2000-03 table to the 2004-10 table, but the median remains the same.\n"
   ]
  },
  {
   "cell_type": "code",
   "execution_count": 51,
   "metadata": {},
   "outputs": [
    {
     "data": {
      "image/png": "[encoded data removed]",
      "text/plain": [
       "<matplotlib.figure.Figure at 0x15649d37898>"
      ]
     },
     "metadata": {},
     "output_type": "display_data"
    }
   ],
   "source": [
    "# Initialize figure subplots\n",
    "fig, ax = plt.subplots(nrows=1, ncols=2, figsize=(12,8))\n",
    "\n",
    "# --------------------------------------\n",
    "# Plot histogram for 2000-2003 distribution \n",
    "# --------------------------------------\n",
    "df2000 = dfTW.loc[dfTW[\"year_id\"] < 2004].copy()\n",
    "\n",
    "df2000.hist(column = \"totalRuns\", ax=ax[0], facecolor=\"steelblue\", edgecolor=\"white\")\n",
    "                                                      \n",
    "# Add titles and labels \n",
    "ax[0].set_title(\"2000-2003 Runs\", fontsize=20)\n",
    "ax[0].set_xlabel(\"Runs\", fontsize=16)\n",
    "ax[0].set_ylabel(\"Frequency\", fontsize=16)\n",
    "\n",
    "# Make grid lighter and set behind data\n",
    "ax[0].grid(alpha=0.25)\n",
    "ax[0].set_axisbelow(True)\n",
    "\n",
    "df2004 = dfTW.loc[dfTW[\"year_id\"] >= 2004].copy()\n",
    "dfTW.hist(column = \"totalRuns\", ax=ax[1], facecolor=\"steelblue\", edgecolor=\"white\")\n",
    "                                                      \n",
    "# Add titles and labels \n",
    "ax[1].set_title(\"2004-2009 Runs\", fontsize=20)\n",
    "ax[1].set_xlabel(\"totalRuns\", fontsize=16)\n",
    "ax[1].set_ylabel(\"Frequency\", fontsize=16)\n",
    "\n",
    "# Make grid lighter and set behind data\n",
    "ax[1].grid(alpha=0.25)\n",
    "ax[1].set_axisbelow(True)\n"
   ]
  },
  {
   "cell_type": "markdown",
   "metadata": {},
   "source": [
    "### Exercise 2\n",
    "***\n",
    "Run a t-test between the two data sets using the python stats.ttest_ind function. Set equal_var = False. What does the t-test tell you about the data?"
   ]
  },
  {
   "cell_type": "code",
   "execution_count": 52,
   "metadata": {},
   "outputs": [
    {
     "data": {
      "text/plain": [
       "Ttest_indResult(statistic=2.9686566728552086, pvalue=0.0029944770343295424)"
      ]
     },
     "execution_count": 52,
     "metadata": {},
     "output_type": "execute_result"
    }
   ],
   "source": [
    "ttest_ind(df2000.totalRuns, df2004.totalRuns, equal_var=False)"
   ]
  },
  {
   "cell_type": "markdown",
   "metadata": {},
   "source": [
    "We have a p value of 0.002 (<0.05) for the data, which indicates that the difference between the data is significant and not due to random sample variation. The would tend to indicate that the number of runs scored in the 'Steroid Era' is significantly greater than the number scored after it."
   ]
  },
  {
   "cell_type": "markdown",
   "metadata": {},
   "source": [
    "### Exercise 3\n",
    "***\n",
    "The previous t-test may have concluded that the data was not drawn from the same distribution. Is that enough? What happens if you compare the 2004-2009 data to the 2010-2013 data. Is there a statistically significant difference? \n",
    "\n",
    "After you've done that, compare any couple of years, or any individual years. What can you conclude?"
   ]
  },
  {
   "cell_type": "code",
   "execution_count": 53,
   "metadata": {},
   "outputs": [
    {
     "data": {
      "text/html": [
       "<div>\n",
       "<style>\n",
       "    .dataframe thead tr:only-child th {\n",
       "        text-align: right;\n",
       "    }\n",
       "\n",
       "    .dataframe thead th {\n",
       "        text-align: left;\n",
       "    }\n",
       "\n",
       "    .dataframe tbody tr th {\n",
       "        vertical-align: top;\n",
       "    }\n",
       "</style>\n",
       "<table border=\"1\" class=\"dataframe\">\n",
       "  <thead>\n",
       "    <tr style=\"text-align: right;\">\n",
       "      <th></th>\n",
       "      <th>game_id</th>\n",
       "      <th>year_id</th>\n",
       "      <th>game_dt</th>\n",
       "      <th>homeTeam</th>\n",
       "      <th>awayTeam</th>\n",
       "      <th>ballpark</th>\n",
       "      <th>awayScore</th>\n",
       "      <th>homeScore</th>\n",
       "      <th>totalRuns</th>\n",
       "    </tr>\n",
       "  </thead>\n",
       "  <tbody>\n",
       "    <tr>\n",
       "      <th>0</th>\n",
       "      <td>ANA201004050</td>\n",
       "      <td>2010</td>\n",
       "      <td>100405</td>\n",
       "      <td>ANA</td>\n",
       "      <td>MIN</td>\n",
       "      <td>ANA01</td>\n",
       "      <td>3</td>\n",
       "      <td>6</td>\n",
       "      <td>9</td>\n",
       "    </tr>\n",
       "    <tr>\n",
       "      <th>1</th>\n",
       "      <td>ANA201004060</td>\n",
       "      <td>2010</td>\n",
       "      <td>100406</td>\n",
       "      <td>ANA</td>\n",
       "      <td>MIN</td>\n",
       "      <td>ANA01</td>\n",
       "      <td>5</td>\n",
       "      <td>3</td>\n",
       "      <td>8</td>\n",
       "    </tr>\n",
       "    <tr>\n",
       "      <th>2</th>\n",
       "      <td>ANA201004070</td>\n",
       "      <td>2010</td>\n",
       "      <td>100407</td>\n",
       "      <td>ANA</td>\n",
       "      <td>MIN</td>\n",
       "      <td>ANA01</td>\n",
       "      <td>4</td>\n",
       "      <td>2</td>\n",
       "      <td>6</td>\n",
       "    </tr>\n",
       "    <tr>\n",
       "      <th>3</th>\n",
       "      <td>ANA201004080</td>\n",
       "      <td>2010</td>\n",
       "      <td>100408</td>\n",
       "      <td>ANA</td>\n",
       "      <td>MIN</td>\n",
       "      <td>ANA01</td>\n",
       "      <td>10</td>\n",
       "      <td>1</td>\n",
       "      <td>11</td>\n",
       "    </tr>\n",
       "    <tr>\n",
       "      <th>4</th>\n",
       "      <td>ANA201004090</td>\n",
       "      <td>2010</td>\n",
       "      <td>100409</td>\n",
       "      <td>ANA</td>\n",
       "      <td>OAK</td>\n",
       "      <td>ANA01</td>\n",
       "      <td>10</td>\n",
       "      <td>4</td>\n",
       "      <td>14</td>\n",
       "    </tr>\n",
       "  </tbody>\n",
       "</table>\n",
       "</div>"
      ],
      "text/plain": [
       "        game_id  year_id  game_dt homeTeam awayTeam ballpark  awayScore  \\\n",
       "0  ANA201004050     2010   100405      ANA      MIN    ANA01          3   \n",
       "1  ANA201004060     2010   100406      ANA      MIN    ANA01          5   \n",
       "2  ANA201004070     2010   100407      ANA      MIN    ANA01          4   \n",
       "3  ANA201004080     2010   100408      ANA      MIN    ANA01         10   \n",
       "4  ANA201004090     2010   100409      ANA      OAK    ANA01         10   \n",
       "\n",
       "   homeScore  totalRuns  \n",
       "0          6          9  \n",
       "1          3          8  \n",
       "2          2          6  \n",
       "3          1         11  \n",
       "4          4         14  "
      ]
     },
     "execution_count": 53,
     "metadata": {},
     "output_type": "execute_result"
    }
   ],
   "source": [
    "local_path = 'runsForLeagueAndCoorsField.csv'\n",
    "\n",
    "# Select the path that works for you \n",
    "file_path = local_path \n",
    "\n",
    "# Load the data into a DataFrame \n",
    "df2010= pd.read_csv(file_path)\n",
    "\n",
    "# Inspect some of the data\n",
    "df2010.head()"
   ]
  },
  {
   "cell_type": "code",
   "execution_count": 54,
   "metadata": {},
   "outputs": [
    {
     "name": "stdout",
     "output_type": "stream",
     "text": [
      "count    14761.000000\n",
      "mean         9.434049\n",
      "std          4.575474\n",
      "min          1.000000\n",
      "25%          6.000000\n",
      "50%          9.000000\n",
      "75%         12.000000\n",
      "max         36.000000\n",
      "Name: totalRuns, dtype: float64 count    9865.000000\n",
      "mean        8.567562\n",
      "std         4.339847\n",
      "min         1.000000\n",
      "25%         5.000000\n",
      "50%         8.000000\n",
      "75%        11.000000\n",
      "max        31.000000\n",
      "Name: totalRuns, dtype: float64\n"
     ]
    }
   ],
   "source": [
    "print (df2004.totalRuns.describe(), df2010.totalRuns.describe())"
   ]
  },
  {
   "cell_type": "code",
   "execution_count": 55,
   "metadata": {},
   "outputs": [
    {
     "data": {
      "text/plain": [
       "Ttest_indResult(statistic=15.021229905354385, pvalue=9.5461714814977729e-51)"
      ]
     },
     "execution_count": 55,
     "metadata": {},
     "output_type": "execute_result"
    }
   ],
   "source": [
    "ttest_ind(df2004.totalRuns, df2010.totalRuns, equal_var=False)"
   ]
  },
  {
   "cell_type": "markdown",
   "metadata": {},
   "source": [
    "Here we can see that the mean runs drops about a full run from the 2004 data set to the 2010 data set, and that the difference in very significat (p value of pretty much 0). "
   ]
  },
  {
   "cell_type": "code",
   "execution_count": 56,
   "metadata": {},
   "outputs": [
    {
     "name": "stdout",
     "output_type": "stream",
     "text": [
      "count    2460.000000\n",
      "mean        9.219106\n",
      "std         4.460887\n",
      "min         1.000000\n",
      "25%         6.000000\n",
      "50%         9.000000\n",
      "75%        12.000000\n",
      "max        31.000000\n",
      "Name: totalRuns, dtype: float64 count    2467.000000\n",
      "mean        8.584921\n",
      "std         4.358571\n",
      "min         1.000000\n",
      "25%         5.000000\n",
      "50%         8.000000\n",
      "75%        11.000000\n",
      "max        31.000000\n",
      "Name: totalRuns, dtype: float64\n"
     ]
    }
   ],
   "source": [
    "df2009 = df2004.loc[df2004[\"year_id\"] == 2009].copy()\n",
    "df2011 = df2010.loc[df2010[\"year_id\"] == 2011].copy()\n",
    "\n",
    "print (df2009.totalRuns.describe(), df2011.totalRuns.describe())"
   ]
  },
  {
   "cell_type": "code",
   "execution_count": 57,
   "metadata": {},
   "outputs": [
    {
     "data": {
      "text/plain": [
       "Ttest_indResult(statistic=5.0469421852450527, pvalue=4.6510753328023763e-07)"
      ]
     },
     "execution_count": 57,
     "metadata": {},
     "output_type": "execute_result"
    }
   ],
   "source": [
    "ttest_ind(df2009.totalRuns, df2011.totalRuns, equal_var=False)"
   ]
  },
  {
   "cell_type": "markdown",
   "metadata": {},
   "source": [
    "Here was can see that even in just the years 2009 and 2011, there is a significant difference in runs scored, with 2009 still being significantly higher than 2011."
   ]
  },
  {
   "cell_type": "markdown",
   "metadata": {},
   "source": [
    "## Distributions - characterizing the data\n",
    "The t-test is assuming that the underlying distribution is normal. But, what do we do if it isn't? Let's start by plotting the data for 2000-2003 and 2004-2009 and drawing the normal curve over the histogram.\n",
    "\n",
    "### Do both distributions look normal?"
   ]
  },
  {
   "cell_type": "code",
   "execution_count": 58,
   "metadata": {},
   "outputs": [
    {
     "data": {
      "image/png": "[encoded data removed]",
      "text/plain": [
       "<matplotlib.figure.Figure at 0x1564a0f31d0>"
      ]
     },
     "metadata": {},
     "output_type": "display_data"
    }
   ],
   "source": [
    "from scipy.stats import norm, geom\n",
    "\n",
    "fig, ax = plt.subplots(nrows=1, ncols=2, figsize=(10,4))\n",
    "df2000.hist(column=\"totalRuns\", bins = 15, ax=ax[0], facecolor=\"steelblue\", normed=True, edgecolor=\"white\")\n",
    "#pd.Series(u).hist(ax=ax, bins=20, color=\"steelblue\", normed=True, edgecolor=\"white\")\n",
    "ax[0].grid(alpha=0.25)\n",
    "ax[0].set_axisbelow(True)\n",
    "ax[0].set_title(\"Total runs league 2000-2003\", fontsize=20)\n",
    "ax[0].set_xlabel(\"Runs\", fontsize=16)\n",
    "ax[0].set_ylabel(\"Frequency\", fontsize=16)\n",
    "\n",
    "#plt.xticks(range(-10,10+1));\n",
    "#ax.set_xlim([-10,10])\n",
    "#ax.set_ylim([0,.5])\n",
    "minRuns = df2000[\"totalRuns\"].min()\n",
    "maxRuns = df2000[\"totalRuns\"].max()\n",
    "x = np.linspace(minRuns,maxRuns,500)\n",
    "mean = df2000[\"totalRuns\"].mean()\n",
    "std = df2000[\"totalRuns\"].std()\n",
    "\n",
    "f = norm.pdf(x, mean, std)\n",
    "ax[0].plot(x,f,color=\"green\");\n",
    "\n",
    "df2004.hist(column = \"totalRuns\", bins = 15, ax=ax[1], normed = True, facecolor=\"steelblue\", edgecolor=\"white\")\n",
    "                                                      \n",
    "# Add titles and labels \n",
    "ax[1].set_title(\"Total runs league 2004-2009\", fontsize=20)\n",
    "ax[1].set_xlabel(\"Runs\", fontsize=16)\n",
    "ax[1].set_ylabel(\"Frequency\", fontsize=16)\n",
    "minRuns = df2004[\"totalRuns\"].min()\n",
    "maxRuns = df2004[\"totalRuns\"].max()\n",
    "x = np.linspace(minRuns,maxRuns,500)\n",
    "mean = df2004[\"totalRuns\"].mean()\n",
    "std = df2004[\"totalRuns\"].std()\n",
    "\n",
    "f = norm.pdf(x, mean, std)\n",
    "ax[1].plot(x,f,color=\"green\");\n",
    "\n",
    "\n",
    "# Make grid lighter and set behind data\n",
    "ax[1].grid(alpha=0.25)\n",
    "ax[1].set_axisbelow(True)\n",
    "\n",
    "\n",
    "#Maybe it's skew normal - skewnorm in scipy"
   ]
  },
  {
   "cell_type": "markdown",
   "metadata": {},
   "source": [
    "## Kolmogorov-Smirnov test\n",
    "There is another test called the Kolmogorov-Smirnoff (KS) test that can be used to compare a data set to a reference distribution, and calculate the that the underlying distribution of the data matches the reference. The KS test can also be used to compare whether two data sets are drawn from the same distribution.\n",
    "\n",
    "We can use the KS test to characterize the distribution of our data.\n",
    "\n",
    "The KS test quantifies a distance between the distribution of observed data and a reference distribution by computing the maximum difference (D) between the cumulative distribution function of the data and that of the reference distribution. \n",
    "\n",
    "The null hypothesis that the sample is drawn from the reference distribution (in the one-sample case) or that the samples are drawn from the same distribution (in the two-sample case).\n",
    "\n",
    "The syntax is that the first argument to kstest is the data set, and the second and third arguments are the the cumulative distribution function and the parameters of the distribution. kstest returns two values - D, and the p-value, which is the probability that, if the data had actually been drawn from the proposed CDF, the resulting value of D would have been as large or larger than the one we measured.\n",
    "\n",
    "### Probability Density Function (PDF)\n",
    "Probability of a random variable falling within a particular range of values. $Pr[a \\leq X \\leq b]$.\n",
    "\n",
    "### Cumulative Density Function (CDF)\n",
    "Probability that a random variable takes on a value less than or equal to x. $Pr[X \\leq x]$\n",
    "\n",
    "### Generate a normal distribution of random numbers"
   ]
  },
  {
   "cell_type": "code",
   "execution_count": 59,
   "metadata": {},
   "outputs": [
    {
     "data": {
      "image/png": "[encoded data removed]",
      "text/plain": [
       "<matplotlib.figure.Figure at 0x15649e264a8>"
      ]
     },
     "metadata": {},
     "output_type": "display_data"
    }
   ],
   "source": [
    "z = np.random.normal(size=14000)\n",
    "fig, ax = plt.subplots(nrows=1, ncols=1, figsize=(10,4))\n",
    "pd.Series(z).hist(ax=ax, bins=20, color=\"steelblue\", normed=True, edgecolor=\"white\")\n",
    "ax.grid(alpha=0.25)\n",
    "ax.set_axisbelow(True)\n",
    "plt.xticks(range(-10,10+1));\n",
    "ax.set_xlim([-10,10])\n",
    "ax.set_ylim([0,.5]);\n",
    "x = np.linspace(-6,6,500)\n",
    "f = norm.pdf(x, 0, 1)\n",
    "ax.plot(x,f,color=\"green\");"
   ]
  },
  {
   "cell_type": "markdown",
   "metadata": {},
   "source": [
    "### Exercise 4\n",
    "Apply the KS test to the distribution you just generated to verify that the KS test works as expected. Explain what the results mean."
   ]
  },
  {
   "cell_type": "code",
   "execution_count": 60,
   "metadata": {},
   "outputs": [
    {
     "data": {
      "text/plain": [
       "KstestResult(statistic=0.0049998296267848574, pvalue=0.87522151988357477)"
      ]
     },
     "execution_count": 60,
     "metadata": {},
     "output_type": "execute_result"
    }
   ],
   "source": [
    "distribution = \"norm\"\n",
    "distr = getattr(stats, distribution)\n",
    "params = distr.fit(z)\n",
    "\n",
    "stats.kstest(z,distribution,args=params)"
   ]
  },
  {
   "cell_type": "markdown",
   "metadata": {},
   "source": [
    "This result tells us that it is likely that the data came from a normal distribution since we fail to reject the null hypothesis."
   ]
  },
  {
   "cell_type": "markdown",
   "metadata": {},
   "source": [
    "### Exercise 5\n",
    "Generate another distribution and run the KS test on the distribution."
   ]
  },
  {
   "cell_type": "code",
   "execution_count": 84,
   "metadata": {},
   "outputs": [
    {
     "data": {
      "image/png": "[encoded data removed]",
      "text/plain": [
       "<matplotlib.figure.Figure at 0x1564a331eb8>"
      ]
     },
     "metadata": {},
     "output_type": "display_data"
    }
   ],
   "source": [
    "z = np.random.poisson(5, size=14000)\n",
    "fig, ax = plt.subplots(nrows=1, ncols=1, figsize=(10,4))\n",
    "pd.Series(z).hist(ax=ax, bins=20, color=\"steelblue\", normed=True, edgecolor=\"white\")\n",
    "ax.grid(alpha=0.25)\n",
    "ax.set_axisbelow(True)\n",
    "ax.set_xlim([-0.1,15])\n",
    "ax.set_ylim([0,0.3]);\n"
   ]
  },
  {
   "cell_type": "code",
   "execution_count": 85,
   "metadata": {},
   "outputs": [
    {
     "data": {
      "text/plain": [
       "KstestResult(statistic=0.99992857142857139, pvalue=0.0)"
      ]
     },
     "execution_count": 85,
     "metadata": {},
     "output_type": "execute_result"
    }
   ],
   "source": [
    "distribution = \"poisson\"\n",
    "distr = getattr(stats, distribution)\n",
    "params = distr.stats(z)\n",
    "\n",
    "stats.kstest(z,distribution,args=params)"
   ]
  },
  {
   "cell_type": "markdown",
   "metadata": {},
   "source": [
    "This tells us that it was not taken from a normal distribution."
   ]
  },
  {
   "cell_type": "markdown",
   "metadata": {},
   "source": [
    "### Exercise 6\n",
    "Run the KS test on a totalRuns data set using the normal distribution with the mean and std of totalRuns."
   ]
  },
  {
   "cell_type": "code",
   "execution_count": 87,
   "metadata": {},
   "outputs": [
    {
     "data": {
      "text/plain": [
       "count    9852.000000\n",
       "mean        9.614089\n",
       "std         4.718389\n",
       "min         1.000000\n",
       "25%         6.000000\n",
       "50%         9.000000\n",
       "75%        13.000000\n",
       "max        33.000000\n",
       "Name: totalRuns, dtype: float64"
      ]
     },
     "execution_count": 87,
     "metadata": {},
     "output_type": "execute_result"
    }
   ],
   "source": [
    "df2000.totalRuns.describe()"
   ]
  },
  {
   "cell_type": "code",
   "execution_count": 90,
   "metadata": {},
   "outputs": [
    {
     "data": {
      "text/plain": [
       "KstestResult(statistic=0.093591044526439515, pvalue=2.2124595036922377e-75)"
      ]
     },
     "execution_count": 90,
     "metadata": {},
     "output_type": "execute_result"
    }
   ],
   "source": [
    "stats.kstest(df2000.totalRuns, 'norm', [9.614, 4.718], 20000)"
   ]
  },
  {
   "cell_type": "markdown",
   "metadata": {},
   "source": [
    "This tells us that the runs are almsot certainly not a normal distribution with a p value of pretty much 0."
   ]
  },
  {
   "cell_type": "markdown",
   "metadata": {},
   "source": [
    "### Exercise 7\n",
    "Ask another question about data distributions, either by years or ballparks, or maybe a diff"
   ]
  },
  {
   "cell_type": "code",
   "execution_count": 116,
   "metadata": {},
   "outputs": [
    {
     "data": {
      "text/plain": [
       "<matplotlib.axes._subplots.AxesSubplot at 0x1564abbe588>"
      ]
     },
     "execution_count": 116,
     "metadata": {},
     "output_type": "execute_result"
    },
    {
     "data": {
      "image/png": "[encoded data removed]",
      "text/plain": [
       "<matplotlib.figure.Figure at 0x1564aa43a58>"
      ]
     },
     "metadata": {},
     "output_type": "display_data"
    }
   ],
   "source": [
    "frames = [df2000, df2004, df2010]\n",
    "allData = pd.concat(frames)\n",
    "allData = allData.groupby('year_id', as_index=False).mean()\n",
    "allData.head()\n",
    "\n",
    "allData.plot(x='year_id', y='totalRuns')\n"
   ]
  },
  {
   "cell_type": "markdown",
   "metadata": {},
   "source": [
    "Here we can see a graph of the average runs scored per year, which shows a pretty obvious downward trend, with an odd dip at 2005. This makes it pretty clear that the runs scored per game was going down over this span."
   ]
  },
  {
   "cell_type": "code",
   "execution_count": null,
   "metadata": {
    "collapsed": true
   },
   "outputs": [],
   "source": []
  }
 ],
 "metadata": {
  "kernelspec": {
   "display_name": "Python 3",
   "language": "python",
   "name": "python3"
  },
  "language_info": {
   "codemirror_mode": {
    "name": "ipython",
    "version": 3
   },
   "file_extension": ".py",
   "mimetype": "text/x-python",
   "name": "python",
   "nbconvert_exporter": "python",
   "pygments_lexer": "ipython3",
   "version": "3.6.3"
  }
 },
 "nbformat": 4,
 "nbformat_minor": 2
}
