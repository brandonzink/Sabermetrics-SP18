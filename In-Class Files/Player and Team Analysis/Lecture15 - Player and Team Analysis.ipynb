{
 "cells": [
  {
   "cell_type": "markdown",
   "metadata": {},
   "source": [
    "# Lecture 15: Analyzing the differences in offense by team \n",
    "***\n",
    "\n",
    "**BRANDON ZINK**\n",
    "\n",
    "Today, we're going to incorporate the concepts from last week's lectures into one activity and analyze the differences in offensive statistics by players at different ballparks. We'll also look at the correlations between different variables. In your last homework, you computed the Run Expectancy with Bases Loaded and One Out at Coors Field and Petco Park. These two parks are at the opposite spectrum of run production - there are fewer runs scored at Petco Park each year than at Coors Field. \n",
    "\n",
    "Start by loading Numpy and Pandas using their common aliases, np and pd. "
   ]
  },
  {
   "cell_type": "code",
   "execution_count": 1,
   "metadata": {
    "collapsed": true
   },
   "outputs": [],
   "source": [
    "import numpy as np \n",
    "import pandas as pd\n",
    "import matplotlib.pylab as plt\n",
    "%matplotlib inline"
   ]
  },
  {
   "cell_type": "markdown",
   "metadata": {},
   "source": [
    "I pulled the offensive statistics for all players on seven teams - Colorado, San Diego, Los Angeles, Boston, St. Louis, Pittsburgh, and Cincinnati, who had more than 500 at-bats during the season.\n",
    "\n",
    "The file, offenseByPlayerForSevenTeams.csv, is on Moodle.\n",
    "\n",
    "We can load the data into a Pandas DataFrame using read_csv( ). You may need to change the file_path variable to point to the correct location. "
   ]
  },
  {
   "cell_type": "code",
   "execution_count": 2,
   "metadata": {},
   "outputs": [
    {
     "data": {
      "text/html": [
       "<div>\n",
       "<style>\n",
       "    .dataframe thead tr:only-child th {\n",
       "        text-align: right;\n",
       "    }\n",
       "\n",
       "    .dataframe thead th {\n",
       "        text-align: left;\n",
       "    }\n",
       "\n",
       "    .dataframe tbody tr th {\n",
       "        vertical-align: top;\n",
       "    }\n",
       "</style>\n",
       "<table border=\"1\" class=\"dataframe\">\n",
       "  <thead>\n",
       "    <tr style=\"text-align: right;\">\n",
       "      <th></th>\n",
       "      <th>yearID</th>\n",
       "      <th>teamID</th>\n",
       "      <th>playerID</th>\n",
       "      <th>nameFirst</th>\n",
       "      <th>nameLast</th>\n",
       "      <th>R</th>\n",
       "      <th>1B</th>\n",
       "      <th>2B</th>\n",
       "      <th>3B</th>\n",
       "      <th>HR</th>\n",
       "      <th>HBP</th>\n",
       "      <th>BB</th>\n",
       "      <th>CS</th>\n",
       "      <th>RBI</th>\n",
       "      <th>SB</th>\n",
       "      <th>NotHits</th>\n",
       "      <th>OBP</th>\n",
       "      <th>SLG</th>\n",
       "    </tr>\n",
       "  </thead>\n",
       "  <tbody>\n",
       "    <tr>\n",
       "      <th>0</th>\n",
       "      <td>2014</td>\n",
       "      <td>SLN</td>\n",
       "      <td>adamsma01</td>\n",
       "      <td>Matt</td>\n",
       "      <td>Adams</td>\n",
       "      <td>55</td>\n",
       "      <td>98</td>\n",
       "      <td>34</td>\n",
       "      <td>5</td>\n",
       "      <td>15</td>\n",
       "      <td>3</td>\n",
       "      <td>26</td>\n",
       "      <td>2</td>\n",
       "      <td>68</td>\n",
       "      <td>3</td>\n",
       "      <td>375</td>\n",
       "      <td>0.321492</td>\n",
       "      <td>0.4573</td>\n",
       "    </tr>\n",
       "    <tr>\n",
       "      <th>1</th>\n",
       "      <td>2012</td>\n",
       "      <td>SDN</td>\n",
       "      <td>alonsyo01</td>\n",
       "      <td>Yonder</td>\n",
       "      <td>Alonso</td>\n",
       "      <td>47</td>\n",
       "      <td>102</td>\n",
       "      <td>39</td>\n",
       "      <td>0</td>\n",
       "      <td>9</td>\n",
       "      <td>3</td>\n",
       "      <td>62</td>\n",
       "      <td>0</td>\n",
       "      <td>62</td>\n",
       "      <td>3</td>\n",
       "      <td>399</td>\n",
       "      <td>0.347896</td>\n",
       "      <td>0.3934</td>\n",
       "    </tr>\n",
       "    <tr>\n",
       "      <th>2</th>\n",
       "      <td>2012</td>\n",
       "      <td>PIT</td>\n",
       "      <td>alvarpe01</td>\n",
       "      <td>Pedro</td>\n",
       "      <td>Alvarez</td>\n",
       "      <td>64</td>\n",
       "      <td>72</td>\n",
       "      <td>25</td>\n",
       "      <td>1</td>\n",
       "      <td>30</td>\n",
       "      <td>1</td>\n",
       "      <td>57</td>\n",
       "      <td>0</td>\n",
       "      <td>85</td>\n",
       "      <td>1</td>\n",
       "      <td>397</td>\n",
       "      <td>0.317406</td>\n",
       "      <td>0.4667</td>\n",
       "    </tr>\n",
       "    <tr>\n",
       "      <th>3</th>\n",
       "      <td>2013</td>\n",
       "      <td>PIT</td>\n",
       "      <td>alvarpe01</td>\n",
       "      <td>Pedro</td>\n",
       "      <td>Alvarez</td>\n",
       "      <td>70</td>\n",
       "      <td>70</td>\n",
       "      <td>22</td>\n",
       "      <td>2</td>\n",
       "      <td>36</td>\n",
       "      <td>4</td>\n",
       "      <td>48</td>\n",
       "      <td>0</td>\n",
       "      <td>100</td>\n",
       "      <td>2</td>\n",
       "      <td>428</td>\n",
       "      <td>0.296417</td>\n",
       "      <td>0.4731</td>\n",
       "    </tr>\n",
       "    <tr>\n",
       "      <th>4</th>\n",
       "      <td>2015</td>\n",
       "      <td>COL</td>\n",
       "      <td>arenano01</td>\n",
       "      <td>Nolan</td>\n",
       "      <td>Arenado</td>\n",
       "      <td>97</td>\n",
       "      <td>88</td>\n",
       "      <td>43</td>\n",
       "      <td>4</td>\n",
       "      <td>42</td>\n",
       "      <td>4</td>\n",
       "      <td>34</td>\n",
       "      <td>5</td>\n",
       "      <td>130</td>\n",
       "      <td>2</td>\n",
       "      <td>439</td>\n",
       "      <td>0.323308</td>\n",
       "      <td>0.5747</td>\n",
       "    </tr>\n",
       "  </tbody>\n",
       "</table>\n",
       "</div>"
      ],
      "text/plain": [
       "   yearID teamID   playerID nameFirst nameLast   R   1B  2B  3B  HR  HBP  BB  \\\n",
       "0    2014    SLN  adamsma01      Matt    Adams  55   98  34   5  15    3  26   \n",
       "1    2012    SDN  alonsyo01    Yonder   Alonso  47  102  39   0   9    3  62   \n",
       "2    2012    PIT  alvarpe01     Pedro  Alvarez  64   72  25   1  30    1  57   \n",
       "3    2013    PIT  alvarpe01     Pedro  Alvarez  70   70  22   2  36    4  48   \n",
       "4    2015    COL  arenano01     Nolan  Arenado  97   88  43   4  42    4  34   \n",
       "\n",
       "   CS  RBI  SB  NotHits       OBP     SLG  \n",
       "0   2   68   3      375  0.321492  0.4573  \n",
       "1   0   62   3      399  0.347896  0.3934  \n",
       "2   0   85   1      397  0.317406  0.4667  \n",
       "3   0  100   2      428  0.296417  0.4731  \n",
       "4   5  130   2      439  0.323308  0.5747  "
      ]
     },
     "execution_count": 2,
     "metadata": {},
     "output_type": "execute_result"
    }
   ],
   "source": [
    "local_path = 'offenseByPlayerForSevenTeams.csv'\n",
    "\n",
    "# Select the path that works for you \n",
    "file_path = local_path \n",
    "\n",
    "# Load the data into a DataFrame \n",
    "dfTW= pd.read_csv(file_path)\n",
    "\n",
    "# Inspect some of the data\n",
    "dfTW.head()"
   ]
  },
  {
   "cell_type": "markdown",
   "metadata": {},
   "source": [
    "The data has columns for: \n",
    "\n",
    "- **yearID**: The year \n",
    "- **teamID**: The team \n",
    "- **playerID**: Player\n",
    "- **nameFirst**: Player's first name\n",
    "- **nameLast**: Player's last name\n",
    "- **R**: Runs the team scored that year\n",
    "- **1B**: Singles the team got that year\n",
    "- **2B**: Doubles the team got that year\n",
    "- **3B**: Triples\n",
    "- **HR**: Home runs\n",
    "- **HBP**: Number of batters hit by pitch\n",
    "- **BB**: Number of walks the team received that year\n",
    "- **CS**: Number of baserunners caught stealing\n",
    "- **RBI**: Runs batted in\n",
    "- **SB**: Stolen bases\n",
    "- **Not hits**: Calculated as AB-H\n",
    "- **OBP**: On base percentage\n",
    "- **SLG**: Slugging percentage"
   ]
  },
  {
   "cell_type": "markdown",
   "metadata": {},
   "source": [
    "## Data visualization\n"
   ]
  },
  {
   "cell_type": "markdown",
   "metadata": {},
   "source": [
    "### Exercise 1\n",
    "***\n",
    "Generate a histogram of the doubles, SLG, or OBP for all teams, and histograms for COL, SDN, and PIT. Refer to the Lecture 13 notebook for Histogram syntax."
   ]
  },
  {
   "cell_type": "code",
   "execution_count": 32,
   "metadata": {},
   "outputs": [
    {
     "data": {
      "image/png": "[encoded data removed]",
      "text/plain": [
       "<matplotlib.figure.Figure at 0x1c5501f8a20>"
      ]
     },
     "metadata": {},
     "output_type": "display_data"
    },
    {
     "data": {
      "image/png": "[encoded data removed]",
      "text/plain": [
       "<matplotlib.figure.Figure at 0x1c5519b0550>"
      ]
     },
     "metadata": {},
     "output_type": "display_data"
    },
    {
     "data": {
      "image/png": "[encoded data removed]",
      "text/plain": [
       "<matplotlib.figure.Figure at 0x1c5519b0ba8>"
      ]
     },
     "metadata": {},
     "output_type": "display_data"
    },
    {
     "data": {
      "image/png": "[encoded data removed]",
      "text/plain": [
       "<matplotlib.figure.Figure at 0x1c5513eba20>"
      ]
     },
     "metadata": {},
     "output_type": "display_data"
    },
    {
     "data": {
      "image/png": "[encoded data removed]",
      "text/plain": [
       "<matplotlib.figure.Figure at 0x1c551bf3b38>"
      ]
     },
     "metadata": {},
     "output_type": "display_data"
    },
    {
     "data": {
      "image/png": "[encoded data removed]",
      "text/plain": [
       "<matplotlib.figure.Figure at 0x1c551948d68>"
      ]
     },
     "metadata": {},
     "output_type": "display_data"
    }
   ],
   "source": [
    "dfTW.hist(column=\"SLG\");\n",
    "plt.title(\"All Teams SLG\");\n",
    "\n",
    "dfTW[(dfTW['teamID'] == \"COL\")].hist(column=\"SLG\");\n",
    "plt.title(\"COL SLG\");\n",
    "\n",
    "dfTW.hist(column=\"OBP\");\n",
    "plt.title(\"All Teams OBP\");\n",
    "\n",
    "dfTW[(dfTW['teamID'] == \"COL\")].hist(column=\"OBP\");\n",
    "plt.title(\"COL OBP\");\n",
    "\n",
    "dfTW.hist(column=\"2B\");\n",
    "plt.title(\"All Teams 2B\");\n",
    "\n",
    "dfTW[(dfTW['teamID'] == \"COL\")].hist(column=\"2B\");\n",
    "plt.title(\"COL OBP\");\n",
    "\n",
    "dfTWColSdnPit = dfTW.loc[(dfTW['teamID'] == \"COL\") | (dfTW['teamID'] == \"SDN\") | (dfTW['teamID'] == \"PIT\")]"
   ]
  },
  {
   "cell_type": "markdown",
   "metadata": {},
   "source": [
    "### Exercise 2\n",
    "***\n",
    "Calculate the descriptive statistics for this same data, including mean, median, Q1, Q3, IQR."
   ]
  },
  {
   "cell_type": "code",
   "execution_count": 33,
   "metadata": {},
   "outputs": [],
   "source": [
    "def descriptive_stats(dataframe):\n",
    "    mean = dataframe.mean()\n",
    "    median = dataframe.median()\n",
    "    Q1 = dataframe.quantile(0.25)\n",
    "    Q3 = dataframe.quantile(0.75)\n",
    "    IQR = Q3-Q1\n",
    "    print(\"Mean: \", mean, \" | Median: \", median, \" | Q1: \", Q1, \" | Q3: \", Q3, \" | IQR: \", IQR)"
   ]
  },
  {
   "cell_type": "code",
   "execution_count": 34,
   "metadata": {},
   "outputs": [
    {
     "name": "stdout",
     "output_type": "stream",
     "text": [
      "Mean:  0.468357765667575  | Median:  0.4593  | Q1:  0.4095  | Q3:  0.51315  | IQR:  0.10365000000000002\n"
     ]
    }
   ],
   "source": [
    "descriptive_stats(dfTW[\"SLG\"])"
   ]
  },
  {
   "cell_type": "code",
   "execution_count": 35,
   "metadata": {},
   "outputs": [
    {
     "name": "stdout",
     "output_type": "stream",
     "text": [
      "Mean:  0.5075170212765958  | Median:  0.5097  | Q1:  0.4506  | Q3:  0.5545  | IQR:  0.10389999999999999\n"
     ]
    }
   ],
   "source": [
    "descriptive_stats(dfTW[dfTW['teamID'] == \"COL\"][\"SLG\"])"
   ]
  },
  {
   "cell_type": "code",
   "execution_count": 36,
   "metadata": {},
   "outputs": [
    {
     "name": "stdout",
     "output_type": "stream",
     "text": [
      "Mean:  0.3576391839427462  | Median:  0.3545586107091172  | Q1:  0.33176428022919247  | Q3:  0.3808022206044759  | IQR:  0.04903794037528342\n"
     ]
    }
   ],
   "source": [
    "descriptive_stats(dfTW[\"OBP\"])"
   ]
  },
  {
   "cell_type": "code",
   "execution_count": 37,
   "metadata": {},
   "outputs": [
    {
     "name": "stdout",
     "output_type": "stream",
     "text": [
      "Mean:  0.37351017648314827  | Median:  0.3669590643274854  | Q1:  0.3452693537610308  | Q3:  0.40451379509310903  | IQR:  0.059244441332078235\n"
     ]
    }
   ],
   "source": [
    "descriptive_stats(dfTW[dfTW['teamID'] == \"COL\"][\"OBP\"])"
   ]
  },
  {
   "cell_type": "code",
   "execution_count": 38,
   "metadata": {},
   "outputs": [
    {
     "name": "stdout",
     "output_type": "stream",
     "text": [
      "Mean:  33.35422343324251  | Median:  33.0  | Q1:  27.5  | Q3:  38.0  | IQR:  10.5\n"
     ]
    }
   ],
   "source": [
    "descriptive_stats(dfTW[\"2B\"])"
   ]
  },
  {
   "cell_type": "code",
   "execution_count": 39,
   "metadata": {},
   "outputs": [
    {
     "name": "stdout",
     "output_type": "stream",
     "text": [
      "Mean:  36.04255319148936  | Median:  35.0  | Q1:  31.0  | Q3:  42.5  | IQR:  11.5\n"
     ]
    }
   ],
   "source": [
    "descriptive_stats(dfTW[dfTW['teamID'] == \"COL\"][\"2B\"])"
   ]
  },
  {
   "cell_type": "markdown",
   "metadata": {},
   "source": [
    "### Exercise 2.5\n",
    "***\n",
    "Comment on the skewness and frequency observed in the data."
   ]
  },
  {
   "cell_type": "markdown",
   "metadata": {},
   "source": [
    "Most of the data appears to be fairly normally distributed, with a slight positive skew. This is probably due to the fact that there a few players that excel, while most players that are bad enough to skew the data are not in the MLB. "
   ]
  },
  {
   "cell_type": "markdown",
   "metadata": {},
   "source": [
    "\n"
   ]
  },
  {
   "cell_type": "markdown",
   "metadata": {},
   "source": [
    "### Exercise 3\n",
    "***\n",
    "Generate a box-and-whisker plot for doubles, OBP, or SLG for all teams."
   ]
  },
  {
   "cell_type": "code",
   "execution_count": 43,
   "metadata": {},
   "outputs": [
    {
     "data": {
      "image/png": "[encoded data removed]",
      "text/plain": [
       "<matplotlib.figure.Figure at 0x1c551706080>"
      ]
     },
     "metadata": {},
     "output_type": "display_data"
    }
   ],
   "source": [
    "dfTW.boxplot(column=\"OBP\");"
   ]
  },
  {
   "cell_type": "code",
   "execution_count": 44,
   "metadata": {},
   "outputs": [
    {
     "data": {
      "image/png": "[encoded data removed]",
      "text/plain": [
       "<matplotlib.figure.Figure at 0x1c551c237f0>"
      ]
     },
     "metadata": {},
     "output_type": "display_data"
    }
   ],
   "source": [
    "dfTW.boxplot(column=\"SLG\");"
   ]
  },
  {
   "cell_type": "code",
   "execution_count": 45,
   "metadata": {},
   "outputs": [
    {
     "data": {
      "image/png": "[encoded data removed]",
      "text/plain": [
       "<matplotlib.figure.Figure at 0x1c551697a58>"
      ]
     },
     "metadata": {},
     "output_type": "display_data"
    }
   ],
   "source": [
    "dfTW.boxplot(column=\"2B\");"
   ]
  },
  {
   "cell_type": "markdown",
   "metadata": {},
   "source": [
    "### Exercise 4 - Correlation\n",
    "\n",
    "Generate a correlation matrix that includes the pairwise correlation for all numerical variables."
   ]
  },
  {
   "cell_type": "code",
   "execution_count": 49,
   "metadata": {},
   "outputs": [
    {
     "data": {
      "text/html": [
       "<div>\n",
       "<style>\n",
       "    .dataframe thead tr:only-child th {\n",
       "        text-align: right;\n",
       "    }\n",
       "\n",
       "    .dataframe thead th {\n",
       "        text-align: left;\n",
       "    }\n",
       "\n",
       "    .dataframe tbody tr th {\n",
       "        vertical-align: top;\n",
       "    }\n",
       "</style>\n",
       "<table border=\"1\" class=\"dataframe\">\n",
       "  <thead>\n",
       "    <tr style=\"text-align: right;\">\n",
       "      <th></th>\n",
       "      <th>R</th>\n",
       "      <th>1B</th>\n",
       "      <th>2B</th>\n",
       "      <th>3B</th>\n",
       "      <th>HR</th>\n",
       "      <th>HBP</th>\n",
       "      <th>BB</th>\n",
       "      <th>CS</th>\n",
       "      <th>RBI</th>\n",
       "      <th>SB</th>\n",
       "      <th>NotHits</th>\n",
       "      <th>OBP</th>\n",
       "      <th>SLG</th>\n",
       "    </tr>\n",
       "  </thead>\n",
       "  <tbody>\n",
       "    <tr>\n",
       "      <th>R</th>\n",
       "      <td>1.000000</td>\n",
       "      <td>0.201232</td>\n",
       "      <td>0.473285</td>\n",
       "      <td>0.194870</td>\n",
       "      <td>0.547821</td>\n",
       "      <td>0.094479</td>\n",
       "      <td>0.542115</td>\n",
       "      <td>0.121511</td>\n",
       "      <td>0.543781</td>\n",
       "      <td>0.190187</td>\n",
       "      <td>0.158943</td>\n",
       "      <td>0.662927</td>\n",
       "      <td>0.672427</td>\n",
       "    </tr>\n",
       "    <tr>\n",
       "      <th>1B</th>\n",
       "      <td>0.201232</td>\n",
       "      <td>1.000000</td>\n",
       "      <td>0.018362</td>\n",
       "      <td>0.263470</td>\n",
       "      <td>-0.475257</td>\n",
       "      <td>0.039473</td>\n",
       "      <td>-0.228205</td>\n",
       "      <td>0.296178</td>\n",
       "      <td>-0.284048</td>\n",
       "      <td>0.324513</td>\n",
       "      <td>0.232334</td>\n",
       "      <td>0.157354</td>\n",
       "      <td>-0.227445</td>\n",
       "    </tr>\n",
       "    <tr>\n",
       "      <th>2B</th>\n",
       "      <td>0.473285</td>\n",
       "      <td>0.018362</td>\n",
       "      <td>1.000000</td>\n",
       "      <td>-0.111198</td>\n",
       "      <td>0.322522</td>\n",
       "      <td>-0.011017</td>\n",
       "      <td>0.296550</td>\n",
       "      <td>-0.224326</td>\n",
       "      <td>0.503952</td>\n",
       "      <td>-0.226344</td>\n",
       "      <td>0.047434</td>\n",
       "      <td>0.466974</td>\n",
       "      <td>0.552573</td>\n",
       "    </tr>\n",
       "    <tr>\n",
       "      <th>3B</th>\n",
       "      <td>0.194870</td>\n",
       "      <td>0.263470</td>\n",
       "      <td>-0.111198</td>\n",
       "      <td>1.000000</td>\n",
       "      <td>-0.236911</td>\n",
       "      <td>0.033042</td>\n",
       "      <td>-0.185785</td>\n",
       "      <td>0.472606</td>\n",
       "      <td>-0.245679</td>\n",
       "      <td>0.529698</td>\n",
       "      <td>0.246378</td>\n",
       "      <td>-0.108235</td>\n",
       "      <td>-0.115552</td>\n",
       "    </tr>\n",
       "    <tr>\n",
       "      <th>HR</th>\n",
       "      <td>0.547821</td>\n",
       "      <td>-0.475257</td>\n",
       "      <td>0.322522</td>\n",
       "      <td>-0.236911</td>\n",
       "      <td>1.000000</td>\n",
       "      <td>-0.031363</td>\n",
       "      <td>0.559594</td>\n",
       "      <td>-0.246131</td>\n",
       "      <td>0.874446</td>\n",
       "      <td>-0.249385</td>\n",
       "      <td>-0.065313</td>\n",
       "      <td>0.482309</td>\n",
       "      <td>0.891490</td>\n",
       "    </tr>\n",
       "    <tr>\n",
       "      <th>HBP</th>\n",
       "      <td>0.094479</td>\n",
       "      <td>0.039473</td>\n",
       "      <td>-0.011017</td>\n",
       "      <td>0.033042</td>\n",
       "      <td>-0.031363</td>\n",
       "      <td>1.000000</td>\n",
       "      <td>-0.049739</td>\n",
       "      <td>0.134896</td>\n",
       "      <td>-0.073912</td>\n",
       "      <td>0.039176</td>\n",
       "      <td>0.014183</td>\n",
       "      <td>0.099984</td>\n",
       "      <td>-0.023829</td>\n",
       "    </tr>\n",
       "    <tr>\n",
       "      <th>BB</th>\n",
       "      <td>0.542115</td>\n",
       "      <td>-0.228205</td>\n",
       "      <td>0.296550</td>\n",
       "      <td>-0.185785</td>\n",
       "      <td>0.559594</td>\n",
       "      <td>-0.049739</td>\n",
       "      <td>1.000000</td>\n",
       "      <td>-0.141026</td>\n",
       "      <td>0.500056</td>\n",
       "      <td>-0.126596</td>\n",
       "      <td>-0.162215</td>\n",
       "      <td>0.789836</td>\n",
       "      <td>0.583047</td>\n",
       "    </tr>\n",
       "    <tr>\n",
       "      <th>CS</th>\n",
       "      <td>0.121511</td>\n",
       "      <td>0.296178</td>\n",
       "      <td>-0.224326</td>\n",
       "      <td>0.472606</td>\n",
       "      <td>-0.246131</td>\n",
       "      <td>0.134896</td>\n",
       "      <td>-0.141026</td>\n",
       "      <td>1.000000</td>\n",
       "      <td>-0.307000</td>\n",
       "      <td>0.755590</td>\n",
       "      <td>0.271889</td>\n",
       "      <td>-0.117877</td>\n",
       "      <td>-0.230987</td>\n",
       "    </tr>\n",
       "    <tr>\n",
       "      <th>RBI</th>\n",
       "      <td>0.543781</td>\n",
       "      <td>-0.284048</td>\n",
       "      <td>0.503952</td>\n",
       "      <td>-0.245679</td>\n",
       "      <td>0.874446</td>\n",
       "      <td>-0.073912</td>\n",
       "      <td>0.500056</td>\n",
       "      <td>-0.307000</td>\n",
       "      <td>1.000000</td>\n",
       "      <td>-0.301013</td>\n",
       "      <td>-0.034313</td>\n",
       "      <td>0.522596</td>\n",
       "      <td>0.861923</td>\n",
       "    </tr>\n",
       "    <tr>\n",
       "      <th>SB</th>\n",
       "      <td>0.190187</td>\n",
       "      <td>0.324513</td>\n",
       "      <td>-0.226344</td>\n",
       "      <td>0.529698</td>\n",
       "      <td>-0.249385</td>\n",
       "      <td>0.039176</td>\n",
       "      <td>-0.126596</td>\n",
       "      <td>0.755590</td>\n",
       "      <td>-0.301013</td>\n",
       "      <td>1.000000</td>\n",
       "      <td>0.272815</td>\n",
       "      <td>-0.104263</td>\n",
       "      <td>-0.220921</td>\n",
       "    </tr>\n",
       "    <tr>\n",
       "      <th>NotHits</th>\n",
       "      <td>0.158943</td>\n",
       "      <td>0.232334</td>\n",
       "      <td>0.047434</td>\n",
       "      <td>0.246378</td>\n",
       "      <td>-0.065313</td>\n",
       "      <td>0.014183</td>\n",
       "      <td>-0.162215</td>\n",
       "      <td>0.271889</td>\n",
       "      <td>-0.034313</td>\n",
       "      <td>0.272815</td>\n",
       "      <td>1.000000</td>\n",
       "      <td>-0.399413</td>\n",
       "      <td>-0.266344</td>\n",
       "    </tr>\n",
       "    <tr>\n",
       "      <th>OBP</th>\n",
       "      <td>0.662927</td>\n",
       "      <td>0.157354</td>\n",
       "      <td>0.466974</td>\n",
       "      <td>-0.108235</td>\n",
       "      <td>0.482309</td>\n",
       "      <td>0.099984</td>\n",
       "      <td>0.789836</td>\n",
       "      <td>-0.117877</td>\n",
       "      <td>0.522596</td>\n",
       "      <td>-0.104263</td>\n",
       "      <td>-0.399413</td>\n",
       "      <td>1.000000</td>\n",
       "      <td>0.736096</td>\n",
       "    </tr>\n",
       "    <tr>\n",
       "      <th>SLG</th>\n",
       "      <td>0.672427</td>\n",
       "      <td>-0.227445</td>\n",
       "      <td>0.552573</td>\n",
       "      <td>-0.115552</td>\n",
       "      <td>0.891490</td>\n",
       "      <td>-0.023829</td>\n",
       "      <td>0.583047</td>\n",
       "      <td>-0.230987</td>\n",
       "      <td>0.861923</td>\n",
       "      <td>-0.220921</td>\n",
       "      <td>-0.266344</td>\n",
       "      <td>0.736096</td>\n",
       "      <td>1.000000</td>\n",
       "    </tr>\n",
       "  </tbody>\n",
       "</table>\n",
       "</div>"
      ],
      "text/plain": [
       "                R        1B        2B        3B        HR       HBP        BB  \\\n",
       "R        1.000000  0.201232  0.473285  0.194870  0.547821  0.094479  0.542115   \n",
       "1B       0.201232  1.000000  0.018362  0.263470 -0.475257  0.039473 -0.228205   \n",
       "2B       0.473285  0.018362  1.000000 -0.111198  0.322522 -0.011017  0.296550   \n",
       "3B       0.194870  0.263470 -0.111198  1.000000 -0.236911  0.033042 -0.185785   \n",
       "HR       0.547821 -0.475257  0.322522 -0.236911  1.000000 -0.031363  0.559594   \n",
       "HBP      0.094479  0.039473 -0.011017  0.033042 -0.031363  1.000000 -0.049739   \n",
       "BB       0.542115 -0.228205  0.296550 -0.185785  0.559594 -0.049739  1.000000   \n",
       "CS       0.121511  0.296178 -0.224326  0.472606 -0.246131  0.134896 -0.141026   \n",
       "RBI      0.543781 -0.284048  0.503952 -0.245679  0.874446 -0.073912  0.500056   \n",
       "SB       0.190187  0.324513 -0.226344  0.529698 -0.249385  0.039176 -0.126596   \n",
       "NotHits  0.158943  0.232334  0.047434  0.246378 -0.065313  0.014183 -0.162215   \n",
       "OBP      0.662927  0.157354  0.466974 -0.108235  0.482309  0.099984  0.789836   \n",
       "SLG      0.672427 -0.227445  0.552573 -0.115552  0.891490 -0.023829  0.583047   \n",
       "\n",
       "               CS       RBI        SB   NotHits       OBP       SLG  \n",
       "R        0.121511  0.543781  0.190187  0.158943  0.662927  0.672427  \n",
       "1B       0.296178 -0.284048  0.324513  0.232334  0.157354 -0.227445  \n",
       "2B      -0.224326  0.503952 -0.226344  0.047434  0.466974  0.552573  \n",
       "3B       0.472606 -0.245679  0.529698  0.246378 -0.108235 -0.115552  \n",
       "HR      -0.246131  0.874446 -0.249385 -0.065313  0.482309  0.891490  \n",
       "HBP      0.134896 -0.073912  0.039176  0.014183  0.099984 -0.023829  \n",
       "BB      -0.141026  0.500056 -0.126596 -0.162215  0.789836  0.583047  \n",
       "CS       1.000000 -0.307000  0.755590  0.271889 -0.117877 -0.230987  \n",
       "RBI     -0.307000  1.000000 -0.301013 -0.034313  0.522596  0.861923  \n",
       "SB       0.755590 -0.301013  1.000000  0.272815 -0.104263 -0.220921  \n",
       "NotHits  0.271889 -0.034313  0.272815  1.000000 -0.399413 -0.266344  \n",
       "OBP     -0.117877  0.522596 -0.104263 -0.399413  1.000000  0.736096  \n",
       "SLG     -0.230987  0.861923 -0.220921 -0.266344  0.736096  1.000000  "
      ]
     },
     "execution_count": 49,
     "metadata": {},
     "output_type": "execute_result"
    }
   ],
   "source": [
    "dfTWNumeric = dfTW[['R', '1B', '2B', '3B', 'HR', 'HBP', 'BB', 'CS', 'RBI', 'SB', 'NotHits', 'OBP', 'SLG']]\n",
    "\n",
    "dfTWNumeric.corr(method='pearson')"
   ]
  },
  {
   "cell_type": "markdown",
   "metadata": {},
   "source": [
    "### Exercise 3.5\n",
    "***\n",
    "Chose 3 expected, and 3 unexpected, results from the correlation matrix and explain why you think the result does or does not make sense. For results that you did not expect, can you verify that the data is correct? Describe the process you used to do so."
   ]
  },
  {
   "cell_type": "markdown",
   "metadata": {},
   "source": [
    "### Unexpected"
   ]
  },
  {
   "cell_type": "markdown",
   "metadata": {},
   "source": [
    "**Runs and Triples:** Runs and 3B have a 0.19487 correlation coefficent, which seems fairly low considering 2B and Runs have a 0.47 coefficent and HR and Runs have a 0.54 coefficent. It would seem that triples would also have a similar value considering that fact that a player is on 3B generally gives them a pretty good chance to score. I double checked about 15 different players stats against Baseball Reference and they appear accurate. The most likely explination for this is that 3B are very rare and so there is limited data."
   ]
  },
  {
   "cell_type": "markdown",
   "metadata": {},
   "source": [
    "**BB and SB:** Walks and Stolen Bases have a negative correlation coefficent (-0.1266), which is suprising cosidering the fact that if a player is getting on base via a BB, you would expect that they would have more chances to steal. This is probably explained by the fact that players who tend to walk more aren't usually the faster players and are instead intimidating power hitters."
   ]
  },
  {
   "cell_type": "markdown",
   "metadata": {},
   "source": [
    "**SB and Runs:** Stolen Bases and Runs have a 0.19 correlation coefficent, which seems low considering the fact that if you steal a base, you move up and have a greater chance to score a run."
   ]
  },
  {
   "cell_type": "markdown",
   "metadata": {},
   "source": [
    "### Expected"
   ]
  },
  {
   "cell_type": "markdown",
   "metadata": {},
   "source": [
    "**OBP and Slugging, HR and Slugging, SB and Triples: ** All of these make sense becuase for the first two, they have the same stats included in the calculation, and the SB and Triples both require a lot of speed."
   ]
  },
  {
   "cell_type": "markdown",
   "metadata": {},
   "source": [
    "\n"
   ]
  },
  {
   "cell_type": "markdown",
   "metadata": {},
   "source": [
    "### Exercise 3.6\n",
    "***\n",
    "Generate a scatterplot of two variables with an unexpected R value."
   ]
  },
  {
   "cell_type": "code",
   "execution_count": 51,
   "metadata": {},
   "outputs": [
    {
     "data": {
      "text/plain": [
       "Text(0.5,1,'SB v R')"
      ]
     },
     "execution_count": 51,
     "metadata": {},
     "output_type": "execute_result"
    },
    {
     "data": {
      "image/png": "[encoded data removed]",
      "text/plain": [
       "<matplotlib.figure.Figure at 0x1c55137bda0>"
      ]
     },
     "metadata": {},
     "output_type": "display_data"
    }
   ],
   "source": [
    "fig, axes = plt.subplots(nrows=1, ncols=1, figsize=(6,6))\n",
    "axes.scatter(dfTW[\"SB\"], dfTW[\"R\"], color = \"green\")\n",
    "axes.grid(alpha=0.25)\n",
    "axes.set_xlabel(\"SB\", fontsize=16)\n",
    "axes.set_ylabel(\"R\", fontsize=16)\n",
    "axes.set_title(\"SB v R\", fontsize=16)"
   ]
  },
  {
   "cell_type": "markdown",
   "metadata": {},
   "source": [
    "## Linear weights for Run contribution\n",
    "***\n",
    "\n",
    "There is a formula developed by Pete Palmer to calculate run contribution for a player much more accurately than RBI. It's similar to the Run Expectancy and wOBA formulas that we looked at earlier in the semester, where each event in a game is assigned a weight representing its contribution to a run. The weights here are used to calculate a player's contribution above an average player's production.\n",
    "\n",
    "$$ LWTS = (0.46)1B + (0.80)2B + (1.02)3B +(1.40)HR + (0.33)(BB+HBP) + (0.30)SB - (0.60)CS - (0.25)(AB-H)$$\n",
    "\n",
    "Palmer claims that there is a strong correlation between a player's LWTS score and their OPS. Calculate the $R^2$, and the regression line between LWTS and OPS and plot the regression line on a scatterplot with the data. Is Palmer correct?\n",
    "\n",
    "Recall, $$OPS = OBP + SLG$$"
   ]
  },
  {
   "cell_type": "code",
   "execution_count": 54,
   "metadata": {
    "scrolled": true
   },
   "outputs": [
    {
     "data": {
      "text/html": [
       "<div>\n",
       "<style>\n",
       "    .dataframe thead tr:only-child th {\n",
       "        text-align: right;\n",
       "    }\n",
       "\n",
       "    .dataframe thead th {\n",
       "        text-align: left;\n",
       "    }\n",
       "\n",
       "    .dataframe tbody tr th {\n",
       "        vertical-align: top;\n",
       "    }\n",
       "</style>\n",
       "<table border=\"1\" class=\"dataframe\">\n",
       "  <thead>\n",
       "    <tr style=\"text-align: right;\">\n",
       "      <th></th>\n",
       "      <th>yearID</th>\n",
       "      <th>teamID</th>\n",
       "      <th>playerID</th>\n",
       "      <th>nameFirst</th>\n",
       "      <th>nameLast</th>\n",
       "      <th>R</th>\n",
       "      <th>1B</th>\n",
       "      <th>2B</th>\n",
       "      <th>3B</th>\n",
       "      <th>HR</th>\n",
       "      <th>HBP</th>\n",
       "      <th>BB</th>\n",
       "      <th>CS</th>\n",
       "      <th>RBI</th>\n",
       "      <th>SB</th>\n",
       "      <th>NotHits</th>\n",
       "      <th>OBP</th>\n",
       "      <th>SLG</th>\n",
       "      <th>OPS</th>\n",
       "      <th>LWTS</th>\n",
       "    </tr>\n",
       "  </thead>\n",
       "  <tbody>\n",
       "    <tr>\n",
       "      <th>0</th>\n",
       "      <td>2014</td>\n",
       "      <td>SLN</td>\n",
       "      <td>adamsma01</td>\n",
       "      <td>Matt</td>\n",
       "      <td>Adams</td>\n",
       "      <td>55</td>\n",
       "      <td>98</td>\n",
       "      <td>34</td>\n",
       "      <td>5</td>\n",
       "      <td>15</td>\n",
       "      <td>3</td>\n",
       "      <td>26</td>\n",
       "      <td>2</td>\n",
       "      <td>68</td>\n",
       "      <td>3</td>\n",
       "      <td>375</td>\n",
       "      <td>0.321492</td>\n",
       "      <td>0.4573</td>\n",
       "      <td>0.778792</td>\n",
       "      <td>8.80</td>\n",
       "    </tr>\n",
       "    <tr>\n",
       "      <th>1</th>\n",
       "      <td>2012</td>\n",
       "      <td>SDN</td>\n",
       "      <td>alonsyo01</td>\n",
       "      <td>Yonder</td>\n",
       "      <td>Alonso</td>\n",
       "      <td>47</td>\n",
       "      <td>102</td>\n",
       "      <td>39</td>\n",
       "      <td>0</td>\n",
       "      <td>9</td>\n",
       "      <td>3</td>\n",
       "      <td>62</td>\n",
       "      <td>0</td>\n",
       "      <td>62</td>\n",
       "      <td>3</td>\n",
       "      <td>399</td>\n",
       "      <td>0.347896</td>\n",
       "      <td>0.3934</td>\n",
       "      <td>0.741296</td>\n",
       "      <td>13.32</td>\n",
       "    </tr>\n",
       "    <tr>\n",
       "      <th>2</th>\n",
       "      <td>2012</td>\n",
       "      <td>PIT</td>\n",
       "      <td>alvarpe01</td>\n",
       "      <td>Pedro</td>\n",
       "      <td>Alvarez</td>\n",
       "      <td>64</td>\n",
       "      <td>72</td>\n",
       "      <td>25</td>\n",
       "      <td>1</td>\n",
       "      <td>30</td>\n",
       "      <td>1</td>\n",
       "      <td>57</td>\n",
       "      <td>0</td>\n",
       "      <td>85</td>\n",
       "      <td>1</td>\n",
       "      <td>397</td>\n",
       "      <td>0.317406</td>\n",
       "      <td>0.4667</td>\n",
       "      <td>0.784106</td>\n",
       "      <td>15.31</td>\n",
       "    </tr>\n",
       "    <tr>\n",
       "      <th>3</th>\n",
       "      <td>2013</td>\n",
       "      <td>PIT</td>\n",
       "      <td>alvarpe01</td>\n",
       "      <td>Pedro</td>\n",
       "      <td>Alvarez</td>\n",
       "      <td>70</td>\n",
       "      <td>70</td>\n",
       "      <td>22</td>\n",
       "      <td>2</td>\n",
       "      <td>36</td>\n",
       "      <td>4</td>\n",
       "      <td>48</td>\n",
       "      <td>0</td>\n",
       "      <td>100</td>\n",
       "      <td>2</td>\n",
       "      <td>428</td>\n",
       "      <td>0.296417</td>\n",
       "      <td>0.4731</td>\n",
       "      <td>0.769517</td>\n",
       "      <td>10.96</td>\n",
       "    </tr>\n",
       "    <tr>\n",
       "      <th>4</th>\n",
       "      <td>2015</td>\n",
       "      <td>COL</td>\n",
       "      <td>arenano01</td>\n",
       "      <td>Nolan</td>\n",
       "      <td>Arenado</td>\n",
       "      <td>97</td>\n",
       "      <td>88</td>\n",
       "      <td>43</td>\n",
       "      <td>4</td>\n",
       "      <td>42</td>\n",
       "      <td>4</td>\n",
       "      <td>34</td>\n",
       "      <td>5</td>\n",
       "      <td>130</td>\n",
       "      <td>2</td>\n",
       "      <td>439</td>\n",
       "      <td>0.323308</td>\n",
       "      <td>0.5747</td>\n",
       "      <td>0.898008</td>\n",
       "      <td>34.07</td>\n",
       "    </tr>\n",
       "  </tbody>\n",
       "</table>\n",
       "</div>"
      ],
      "text/plain": [
       "   yearID teamID   playerID nameFirst nameLast   R   1B  2B  3B  HR  HBP  BB  \\\n",
       "0    2014    SLN  adamsma01      Matt    Adams  55   98  34   5  15    3  26   \n",
       "1    2012    SDN  alonsyo01    Yonder   Alonso  47  102  39   0   9    3  62   \n",
       "2    2012    PIT  alvarpe01     Pedro  Alvarez  64   72  25   1  30    1  57   \n",
       "3    2013    PIT  alvarpe01     Pedro  Alvarez  70   70  22   2  36    4  48   \n",
       "4    2015    COL  arenano01     Nolan  Arenado  97   88  43   4  42    4  34   \n",
       "\n",
       "   CS  RBI  SB  NotHits       OBP     SLG       OPS   LWTS  \n",
       "0   2   68   3      375  0.321492  0.4573  0.778792   8.80  \n",
       "1   0   62   3      399  0.347896  0.3934  0.741296  13.32  \n",
       "2   0   85   1      397  0.317406  0.4667  0.784106  15.31  \n",
       "3   0  100   2      428  0.296417  0.4731  0.769517  10.96  \n",
       "4   5  130   2      439  0.323308  0.5747  0.898008  34.07  "
      ]
     },
     "execution_count": 54,
     "metadata": {},
     "output_type": "execute_result"
    }
   ],
   "source": [
    "dfTW[\"OPS\"] = dfTW[\"OBP\"] + dfTW[\"SLG\"]\n",
    "\n",
    "dfTW[\"LWTS\"] = (dfTW[\"1B\"]*0.46) + (dfTW[\"2B\"]*0.8) + (dfTW[\"HR\"]*1.4) + ((dfTW[\"BB\"]+dfTW[\"HBP\"])*0.33) + (dfTW[\"SB\"]*0.3) - (dfTW[\"CS\"]*0.6) - (dfTW[\"NotHits\"]*0.25)"
   ]
  },
  {
   "cell_type": "code",
   "execution_count": 62,
   "metadata": {},
   "outputs": [
    {
     "name": "stdout",
     "output_type": "stream",
     "text": [
      "                            OLS Regression Results                            \n",
      "==============================================================================\n",
      "Dep. Variable:                    OPS   R-squared:                       0.968\n",
      "Model:                            OLS   Adj. R-squared:                  0.968\n",
      "Method:                 Least Squares   F-statistic:                 1.102e+04\n",
      "Date:                Mon, 19 Feb 2018   Prob (F-statistic):          9.13e-275\n",
      "Time:                        12:00:21   Log-Likelihood:                 928.08\n",
      "No. Observations:                 367   AIC:                            -1852.\n",
      "Df Residuals:                     365   BIC:                            -1844.\n",
      "Df Model:                           1                                         \n",
      "Covariance Type:            nonrobust                                         \n",
      "==============================================================================\n",
      "                 coef    std err          t      P>|t|      [0.025      0.975]\n",
      "------------------------------------------------------------------------------\n",
      "Intercept      0.7084      0.002    469.594      0.000       0.705       0.711\n",
      "LWTS           0.0045    4.3e-05    104.980      0.000       0.004       0.005\n",
      "==============================================================================\n",
      "Omnibus:                        4.451   Durbin-Watson:                   1.573\n",
      "Prob(Omnibus):                  0.108   Jarque-Bera (JB):                4.198\n",
      "Skew:                           0.250   Prob(JB):                        0.123\n",
      "Kurtosis:                       3.154   Cond. No.                         52.4\n",
      "==============================================================================\n",
      "\n",
      "Warnings:\n",
      "[1] Standard Errors assume that the covariance matrix of the errors is correctly specified.\n"
     ]
    }
   ],
   "source": [
    "import statsmodels.formula.api as sm\n",
    "result = sm.ols(formula=\"OPS ~ LWTS\", data=dfTW).fit()\n",
    "\n",
    "print (result.summary())"
   ]
  },
  {
   "cell_type": "code",
   "execution_count": 67,
   "metadata": {},
   "outputs": [
    {
     "data": {
      "text/plain": [
       "<seaborn.axisgrid.FacetGrid at 0x1c5536c9a20>"
      ]
     },
     "execution_count": 67,
     "metadata": {},
     "output_type": "execute_result"
    },
    {
     "data": {
      "image/png": "[encoded data removed]",
      "text/plain": [
       "<matplotlib.figure.Figure at 0x1c553622240>"
      ]
     },
     "metadata": {},
     "output_type": "display_data"
    }
   ],
   "source": [
    "import seaborn as sns\n",
    "sns.lmplot(x='OPS',y='LWTS',data=dfTW,fit_reg=True) "
   ]
  },
  {
   "cell_type": "markdown",
   "metadata": {},
   "source": [
    "## Where do we go from here to show the effects of the ballpark?\n",
    "***\n",
    "\n",
    "The data that we used here was for individual players who play half their games at a park that is either a pitchers, hitters, or neutral park. How would we actually more definitively that the ballpark has an effect on player statistics? What data would we need that we haven't used in this assignment? How would we apply the analysis here to that data set?"
   ]
  },
  {
   "cell_type": "markdown",
   "metadata": {},
   "source": [
    "In order to calculate the effect of a ballpark on players performance, we could aggregate the data for performance at each individual ballpark and analyze the ballparks effect on any number of statistics. Probably the best would be a runs scored or expected runs scored, but a ballpark can have other effects that may show up differently that should also be looked at.\n",
    "\n",
    "For example, Rockies stadium allows for a lor of HRs due to the altitude, but a stadium like Detroit has narrower corner outfields that allow for major pull/push hitters to hit HRs, but an extremely deep CF which allows for more doubles and triples (similar to Bostons stadium) that can move all sorts of statistics in different directions.\n",
    "\n",
    "You could take an extreme and look at the Polo Grounds from way back in the day. Down the line is <300ft, but deep center is 480. No ballpark looks like that anymore, but Polo Grounds could allow for some crazy statistics depending on the kind of hitter you are which should be taken into account."
   ]
  },
  {
   "cell_type": "code",
   "execution_count": null,
   "metadata": {
    "collapsed": true
   },
   "outputs": [],
   "source": []
  }
 ],
 "metadata": {
  "kernelspec": {
   "display_name": "Python 3",
   "language": "python",
   "name": "python3"
  },
  "language_info": {
   "codemirror_mode": {
    "name": "ipython",
    "version": 3
   },
   "file_extension": ".py",
   "mimetype": "text/x-python",
   "name": "python",
   "nbconvert_exporter": "python",
   "pygments_lexer": "ipython3",
   "version": "3.6.3"
  }
 },
 "nbformat": 4,
 "nbformat_minor": 2
}
