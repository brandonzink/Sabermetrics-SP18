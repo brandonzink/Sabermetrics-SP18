{
 "cells": [
  {
   "cell_type": "markdown",
   "metadata": {},
   "source": [
    "# Lecture 20: Baseball Prospectus team statistics\n",
    "***\n",
    "\n",
    "In this notebook, we'll work on computing the Pythagorean Winning Percentage and comparing ERA and FIP.\n",
    "\n",
    "Start by loading Numpy and Pandas using their common aliases, np and pd. "
   ]
  },
  {
   "cell_type": "code",
   "execution_count": 42,
   "metadata": {},
   "outputs": [
    {
     "data": {
      "text/html": [
       "<div>\n",
       "<style>\n",
       "    .dataframe thead tr:only-child th {\n",
       "        text-align: right;\n",
       "    }\n",
       "\n",
       "    .dataframe thead th {\n",
       "        text-align: left;\n",
       "    }\n",
       "\n",
       "    .dataframe tbody tr th {\n",
       "        vertical-align: top;\n",
       "    }\n",
       "</style>\n",
       "<table border=\"1\" class=\"dataframe\">\n",
       "  <thead>\n",
       "    <tr style=\"text-align: right;\">\n",
       "      <th></th>\n",
       "      <th>yearID</th>\n",
       "      <th>teamID</th>\n",
       "      <th>W</th>\n",
       "      <th>L</th>\n",
       "      <th>R</th>\n",
       "      <th>RA</th>\n",
       "    </tr>\n",
       "  </thead>\n",
       "  <tbody>\n",
       "    <tr>\n",
       "      <th>0</th>\n",
       "      <td>2010</td>\n",
       "      <td>ARI</td>\n",
       "      <td>65</td>\n",
       "      <td>97</td>\n",
       "      <td>713</td>\n",
       "      <td>836</td>\n",
       "    </tr>\n",
       "    <tr>\n",
       "      <th>1</th>\n",
       "      <td>2010</td>\n",
       "      <td>ATL</td>\n",
       "      <td>91</td>\n",
       "      <td>71</td>\n",
       "      <td>738</td>\n",
       "      <td>629</td>\n",
       "    </tr>\n",
       "    <tr>\n",
       "      <th>2</th>\n",
       "      <td>2010</td>\n",
       "      <td>BAL</td>\n",
       "      <td>66</td>\n",
       "      <td>96</td>\n",
       "      <td>613</td>\n",
       "      <td>785</td>\n",
       "    </tr>\n",
       "    <tr>\n",
       "      <th>3</th>\n",
       "      <td>2010</td>\n",
       "      <td>BOS</td>\n",
       "      <td>89</td>\n",
       "      <td>73</td>\n",
       "      <td>818</td>\n",
       "      <td>744</td>\n",
       "    </tr>\n",
       "    <tr>\n",
       "      <th>4</th>\n",
       "      <td>2010</td>\n",
       "      <td>CHA</td>\n",
       "      <td>88</td>\n",
       "      <td>74</td>\n",
       "      <td>752</td>\n",
       "      <td>704</td>\n",
       "    </tr>\n",
       "  </tbody>\n",
       "</table>\n",
       "</div>"
      ],
      "text/plain": [
       "   yearID teamID   W   L    R   RA\n",
       "0    2010    ARI  65  97  713  836\n",
       "1    2010    ATL  91  71  738  629\n",
       "2    2010    BAL  66  96  613  785\n",
       "3    2010    BOS  89  73  818  744\n",
       "4    2010    CHA  88  74  752  704"
      ]
     },
     "execution_count": 42,
     "metadata": {},
     "output_type": "execute_result"
    }
   ],
   "source": [
    "import numpy as np \n",
    "import pandas as pd\n",
    "import matplotlib.pylab as plt\n",
    "%matplotlib inline\n",
    "\n",
    "local_path = 'winningPercentageData.csv'\n",
    "\n",
    "# Select the path that works for you \n",
    "file_path = local_path \n",
    "\n",
    "# Load the data into a DataFrame \n",
    "dfTW= pd.read_csv(file_path)\n",
    "\n",
    "# Inspect some of the data\n",
    "dfTW.head()"
   ]
  },
  {
   "cell_type": "markdown",
   "metadata": {},
   "source": [
    "The data has columns for: \n",
    "\n",
    "- **yearID**: Year \n",
    "- **teamID**: Team\n",
    "- **W**: Wins for season\n",
    "- **L**: Losses for season\n",
    "- **R**: Runs scored that season\n",
    "- **RA**: Runs allowed that season"
   ]
  },
  {
   "cell_type": "markdown",
   "metadata": {},
   "source": [
    "### Exercise 1 - How meaningful is Pythagorean WP?\n",
    "***\n",
    "Compare the actual winning percentage for teams at the end of the season to their Pythagorean score. How strong is the correlation? "
   ]
  },
  {
   "cell_type": "code",
   "execution_count": 43,
   "metadata": {},
   "outputs": [
    {
     "name": "stdout",
     "output_type": "stream",
     "text": [
      "Correlation:  0.87331900133\n"
     ]
    }
   ],
   "source": [
    "#Column for win percetnage\n",
    "dfTW['Win%'] = dfTW['W']/(dfTW['W']+dfTW['L'])\n",
    "\n",
    "#Column for Pythag score\n",
    "dfTW['Pythag'] = (dfTW['R']**1.83)/((dfTW['R']**1.83)+(dfTW['RA']**1.83))\n",
    "\n",
    "print (\"Correlation: \", (dfTW['Win%'].corr(dfTW['Pythag'], method='pearson'))**2)"
   ]
  },
  {
   "cell_type": "markdown",
   "metadata": {},
   "source": [
    "### Exercise 2 - FIP vs. ERA\n",
    "***\n",
    "Imagine you are hanging out in CSEL, listening to the raucous conversations about sports that often occur in computer science. Anyway, you hear a wayward CSCI1300 student claim that FIP is a useless stat because it's the same as ERA. Any pitcher with a low ERA will also have a low FIP, and vice versa. You decide to investigate and possibly give him the mathematical smackdown of his life. Use the pitchingIn2013.csv file that magically appears before you, and on Moodle.\n",
    "\n",
    "Use cFIP = 3.048.\n",
    "\n",
    "$$FIP = \\frac{((13*HR) + (3*(BB+HBP)) - (2*K))}{IP} + cFIP$$"
   ]
  },
  {
   "cell_type": "code",
   "execution_count": 9,
   "metadata": {},
   "outputs": [
    {
     "data": {
      "text/html": [
       "<div>\n",
       "<style>\n",
       "    .dataframe thead tr:only-child th {\n",
       "        text-align: right;\n",
       "    }\n",
       "\n",
       "    .dataframe thead th {\n",
       "        text-align: left;\n",
       "    }\n",
       "\n",
       "    .dataframe tbody tr th {\n",
       "        vertical-align: top;\n",
       "    }\n",
       "</style>\n",
       "<table border=\"1\" class=\"dataframe\">\n",
       "  <thead>\n",
       "    <tr style=\"text-align: right;\">\n",
       "      <th></th>\n",
       "      <th>playerID</th>\n",
       "      <th>teamID</th>\n",
       "      <th>HR</th>\n",
       "      <th>BB</th>\n",
       "      <th>HBP</th>\n",
       "      <th>SO</th>\n",
       "      <th>IP</th>\n",
       "      <th>ERA</th>\n",
       "    </tr>\n",
       "  </thead>\n",
       "  <tbody>\n",
       "    <tr>\n",
       "      <th>0</th>\n",
       "      <td>aardsda01</td>\n",
       "      <td>NYN</td>\n",
       "      <td>7</td>\n",
       "      <td>19</td>\n",
       "      <td>4</td>\n",
       "      <td>36</td>\n",
       "      <td>39.6667</td>\n",
       "      <td>4.31</td>\n",
       "    </tr>\n",
       "    <tr>\n",
       "      <th>1</th>\n",
       "      <td>abadfe01</td>\n",
       "      <td>WAS</td>\n",
       "      <td>3</td>\n",
       "      <td>10</td>\n",
       "      <td>1</td>\n",
       "      <td>32</td>\n",
       "      <td>37.6667</td>\n",
       "      <td>3.35</td>\n",
       "    </tr>\n",
       "    <tr>\n",
       "      <th>2</th>\n",
       "      <td>aceveal01</td>\n",
       "      <td>BOS</td>\n",
       "      <td>8</td>\n",
       "      <td>22</td>\n",
       "      <td>0</td>\n",
       "      <td>24</td>\n",
       "      <td>37.0000</td>\n",
       "      <td>4.86</td>\n",
       "    </tr>\n",
       "    <tr>\n",
       "      <th>3</th>\n",
       "      <td>adamsmi03</td>\n",
       "      <td>PHI</td>\n",
       "      <td>5</td>\n",
       "      <td>11</td>\n",
       "      <td>1</td>\n",
       "      <td>23</td>\n",
       "      <td>25.0000</td>\n",
       "      <td>3.96</td>\n",
       "    </tr>\n",
       "    <tr>\n",
       "      <th>4</th>\n",
       "      <td>affelje01</td>\n",
       "      <td>SFN</td>\n",
       "      <td>2</td>\n",
       "      <td>17</td>\n",
       "      <td>4</td>\n",
       "      <td>21</td>\n",
       "      <td>33.6667</td>\n",
       "      <td>3.74</td>\n",
       "    </tr>\n",
       "  </tbody>\n",
       "</table>\n",
       "</div>"
      ],
      "text/plain": [
       "    playerID teamID  HR  BB  HBP  SO       IP   ERA\n",
       "0  aardsda01    NYN   7  19    4  36  39.6667  4.31\n",
       "1   abadfe01    WAS   3  10    1  32  37.6667  3.35\n",
       "2  aceveal01    BOS   8  22    0  24  37.0000  4.86\n",
       "3  adamsmi03    PHI   5  11    1  23  25.0000  3.96\n",
       "4  affelje01    SFN   2  17    4  21  33.6667  3.74"
      ]
     },
     "execution_count": 9,
     "metadata": {},
     "output_type": "execute_result"
    }
   ],
   "source": [
    "local_path = 'pitchingIn2013.csv'\n",
    "\n",
    "# Select the path that works for you \n",
    "file_path = local_path \n",
    "\n",
    "# Load the data into a DataFrame \n",
    "dfPitch= pd.read_csv(file_path)\n",
    "\n",
    "# Inspect some of the data\n",
    "dfPitch.head()"
   ]
  },
  {
   "cell_type": "code",
   "execution_count": 38,
   "metadata": {},
   "outputs": [
    {
     "name": "stdout",
     "output_type": "stream",
     "text": [
      "<class 'pandas.core.frame.DataFrame'>\n",
      "Int64Index: 726 entries, 0 to 725\n",
      "Data columns (total 9 columns):\n",
      "playerID    726 non-null object\n",
      "teamID      726 non-null object\n",
      "HR          726 non-null int64\n",
      "BB          726 non-null int64\n",
      "HBP         726 non-null int64\n",
      "SO          726 non-null int64\n",
      "IP          726 non-null float64\n",
      "ERA         726 non-null float64\n",
      "FIP         726 non-null float64\n",
      "dtypes: float64(3), int64(4), object(2)\n",
      "memory usage: 76.7+ KB\n"
     ]
    }
   ],
   "source": [
    "dfPitch['FIP']=(((13*dfPitch.HR)+(3*(dfPitch.BB+dfPitch.HBP))-(2*dfPitch.SO))/dfPitch.IP)+3.048\n",
    "dfPitch = dfPitch.dropna(axis=1, how='any')\n",
    "dfPitch.rename(index=str, columns={\"ERA \": \"ERA\"})\n",
    "dfPitch.info()"
   ]
  },
  {
   "cell_type": "code",
   "execution_count": 29,
   "metadata": {},
   "outputs": [
    {
     "data": {
      "image/png": "[encoded data removed]",
      "text/plain": [
       "<matplotlib.figure.Figure at 0x24c706267b8>"
      ]
     },
     "metadata": {},
     "output_type": "display_data"
    }
   ],
   "source": [
    "fig, axes = plt.subplots(nrows=1, ncols=1, figsize=(6,6))\n",
    "axes.scatter(dfPitch[\"ERA\"], dfPitch[\"FIP\"], color = \"blue\")\n",
    "axes.grid(alpha=0.25)\n",
    "axes.set_xlabel(\"ERA\", fontsize=16)\n",
    "axes.set_ylabel(\"FIP\", fontsize=16)\n",
    "axes.set_title(\"ERA v FIP\", fontsize=16)\n",
    "axes.set_xlim(0.1,10)\n",
    "axes.set_ylim(0.1,10)\n",
    "plt.show()"
   ]
  },
  {
   "cell_type": "code",
   "execution_count": 40,
   "metadata": {},
   "outputs": [
    {
     "data": {
      "text/html": [
       "<div>\n",
       "<style>\n",
       "    .dataframe thead tr:only-child th {\n",
       "        text-align: right;\n",
       "    }\n",
       "\n",
       "    .dataframe thead th {\n",
       "        text-align: left;\n",
       "    }\n",
       "\n",
       "    .dataframe tbody tr th {\n",
       "        vertical-align: top;\n",
       "    }\n",
       "</style>\n",
       "<table border=\"1\" class=\"dataframe\">\n",
       "  <thead>\n",
       "    <tr style=\"text-align: right;\">\n",
       "      <th></th>\n",
       "      <th>HR</th>\n",
       "      <th>BB</th>\n",
       "      <th>HBP</th>\n",
       "      <th>SO</th>\n",
       "      <th>IP</th>\n",
       "      <th>ERA</th>\n",
       "      <th>FIP</th>\n",
       "    </tr>\n",
       "  </thead>\n",
       "  <tbody>\n",
       "    <tr>\n",
       "      <th>HR</th>\n",
       "      <td>1.000000</td>\n",
       "      <td>0.628075</td>\n",
       "      <td>0.375823</td>\n",
       "      <td>0.652853</td>\n",
       "      <td>0.765486</td>\n",
       "      <td>0.007160</td>\n",
       "      <td>0.005124</td>\n",
       "    </tr>\n",
       "    <tr>\n",
       "      <th>BB</th>\n",
       "      <td>0.628075</td>\n",
       "      <td>1.000000</td>\n",
       "      <td>0.469743</td>\n",
       "      <td>0.773874</td>\n",
       "      <td>0.823351</td>\n",
       "      <td>0.021571</td>\n",
       "      <td>0.031041</td>\n",
       "    </tr>\n",
       "    <tr>\n",
       "      <th>HBP</th>\n",
       "      <td>0.375823</td>\n",
       "      <td>0.469743</td>\n",
       "      <td>1.000000</td>\n",
       "      <td>0.439883</td>\n",
       "      <td>0.492474</td>\n",
       "      <td>0.011403</td>\n",
       "      <td>0.015725</td>\n",
       "    </tr>\n",
       "    <tr>\n",
       "      <th>SO</th>\n",
       "      <td>0.652853</td>\n",
       "      <td>0.773874</td>\n",
       "      <td>0.439883</td>\n",
       "      <td>1.000000</td>\n",
       "      <td>0.915739</td>\n",
       "      <td>0.032746</td>\n",
       "      <td>0.060455</td>\n",
       "    </tr>\n",
       "    <tr>\n",
       "      <th>IP</th>\n",
       "      <td>0.765486</td>\n",
       "      <td>0.823351</td>\n",
       "      <td>0.492474</td>\n",
       "      <td>0.915739</td>\n",
       "      <td>1.000000</td>\n",
       "      <td>0.028982</td>\n",
       "      <td>0.046971</td>\n",
       "    </tr>\n",
       "    <tr>\n",
       "      <th>ERA</th>\n",
       "      <td>0.007160</td>\n",
       "      <td>0.021571</td>\n",
       "      <td>0.011403</td>\n",
       "      <td>0.032746</td>\n",
       "      <td>0.028982</td>\n",
       "      <td>1.000000</td>\n",
       "      <td>0.623901</td>\n",
       "    </tr>\n",
       "    <tr>\n",
       "      <th>FIP</th>\n",
       "      <td>0.005124</td>\n",
       "      <td>0.031041</td>\n",
       "      <td>0.015725</td>\n",
       "      <td>0.060455</td>\n",
       "      <td>0.046971</td>\n",
       "      <td>0.623901</td>\n",
       "      <td>1.000000</td>\n",
       "    </tr>\n",
       "  </tbody>\n",
       "</table>\n",
       "</div>"
      ],
      "text/plain": [
       "           HR        BB       HBP        SO        IP       ERA       FIP\n",
       "HR   1.000000  0.628075  0.375823  0.652853  0.765486  0.007160  0.005124\n",
       "BB   0.628075  1.000000  0.469743  0.773874  0.823351  0.021571  0.031041\n",
       "HBP  0.375823  0.469743  1.000000  0.439883  0.492474  0.011403  0.015725\n",
       "SO   0.652853  0.773874  0.439883  1.000000  0.915739  0.032746  0.060455\n",
       "IP   0.765486  0.823351  0.492474  0.915739  1.000000  0.028982  0.046971\n",
       "ERA  0.007160  0.021571  0.011403  0.032746  0.028982  1.000000  0.623901\n",
       "FIP  0.005124  0.031041  0.015725  0.060455  0.046971  0.623901  1.000000"
      ]
     },
     "execution_count": 40,
     "metadata": {},
     "output_type": "execute_result"
    }
   ],
   "source": [
    "dfPitch.corr()**2"
   ]
  },
  {
   "cell_type": "markdown",
   "metadata": {},
   "source": [
    "There's a fairy strong correlation between ERA and FIP (.624), but not as strong as Win % and Pythagorean Score (0.8733)."
   ]
  },
  {
   "cell_type": "code",
   "execution_count": null,
   "metadata": {
    "collapsed": true
   },
   "outputs": [],
   "source": []
  }
 ],
 "metadata": {
  "kernelspec": {
   "display_name": "Python 3",
   "language": "python",
   "name": "python3"
  },
  "language_info": {
   "codemirror_mode": {
    "name": "ipython",
    "version": 3
   },
   "file_extension": ".py",
   "mimetype": "text/x-python",
   "name": "python",
   "nbconvert_exporter": "python",
   "pygments_lexer": "ipython3",
   "version": "3.6.3"
  }
 },
 "nbformat": 4,
 "nbformat_minor": 2
}
