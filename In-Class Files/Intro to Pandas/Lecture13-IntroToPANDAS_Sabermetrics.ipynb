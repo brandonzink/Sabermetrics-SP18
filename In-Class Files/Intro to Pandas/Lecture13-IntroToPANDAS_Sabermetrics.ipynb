{
 "cells": [
  {
   "cell_type": "markdown",
   "metadata": {},
   "source": [
    "# Lecture 13: Introduction to PANDAS \n",
    "***\n",
    "\n",
    "MySQL is great for pulling data out of the database, but for interesting analysis on the data, we need to switch to another tool. We're going to use the data analysis package in Python, called Pandas.\n",
    "\n",
    "We'll do some basic statistics on our baseball data and then a histogram and box and whisker plot. \n",
    "\n",
    "Start by loading Numpy and Pandas using their common aliases, np and pd. "
   ]
  },
  {
   "cell_type": "code",
   "execution_count": 2,
   "metadata": {
    "collapsed": true
   },
   "outputs": [],
   "source": [
    "import numpy as np \n",
    "import pandas as pd"
   ]
  },
  {
   "cell_type": "markdown",
   "metadata": {},
   "source": [
    "We're going to use Matplotlib's Pylab library, so let's load that. Doing it this way, we can view the plots directly in the notebook.  "
   ]
  },
  {
   "cell_type": "code",
   "execution_count": 3,
   "metadata": {
    "collapsed": true
   },
   "outputs": [],
   "source": [
    "import matplotlib.pylab as plt\n",
    "%matplotlib inline"
   ]
  },
  {
   "cell_type": "markdown",
   "metadata": {},
   "source": [
    "Our first exercise will use the late innings wins data from our in-class query exercise. This data shows the winning percentage for all teams when they are leading by exactly one run at the end of the 6th inning. \n",
    "\n",
    "We can load the data into a Pandas DataFrame using read_csv( ). You may need to change the file_path variable to point to the correct location. "
   ]
  },
  {
   "cell_type": "code",
   "execution_count": 4,
   "metadata": {},
   "outputs": [
    {
     "data": {
      "text/html": [
       "<div>\n",
       "<style>\n",
       "    .dataframe thead tr:only-child th {\n",
       "        text-align: right;\n",
       "    }\n",
       "\n",
       "    .dataframe thead th {\n",
       "        text-align: left;\n",
       "    }\n",
       "\n",
       "    .dataframe tbody tr th {\n",
       "        vertical-align: top;\n",
       "    }\n",
       "</style>\n",
       "<table border=\"1\" class=\"dataframe\">\n",
       "  <thead>\n",
       "    <tr style=\"text-align: right;\">\n",
       "      <th></th>\n",
       "      <th>battingTeam</th>\n",
       "      <th>winPercentage</th>\n",
       "      <th>z-score</th>\n",
       "    </tr>\n",
       "  </thead>\n",
       "  <tbody>\n",
       "    <tr>\n",
       "      <th>0</th>\n",
       "      <td>HOU</td>\n",
       "      <td>0.5500</td>\n",
       "      <td>-2.291193</td>\n",
       "    </tr>\n",
       "    <tr>\n",
       "      <th>1</th>\n",
       "      <td>TOR</td>\n",
       "      <td>0.5714</td>\n",
       "      <td>-1.991276</td>\n",
       "    </tr>\n",
       "    <tr>\n",
       "      <th>2</th>\n",
       "      <td>FLO</td>\n",
       "      <td>0.6000</td>\n",
       "      <td>-1.590453</td>\n",
       "    </tr>\n",
       "    <tr>\n",
       "      <th>3</th>\n",
       "      <td>BAL</td>\n",
       "      <td>0.6133</td>\n",
       "      <td>-1.404056</td>\n",
       "    </tr>\n",
       "    <tr>\n",
       "      <th>4</th>\n",
       "      <td>KCA</td>\n",
       "      <td>0.6494</td>\n",
       "      <td>-0.898122</td>\n",
       "    </tr>\n",
       "    <tr>\n",
       "      <th>5</th>\n",
       "      <td>PHI</td>\n",
       "      <td>0.6579</td>\n",
       "      <td>-0.778997</td>\n",
       "    </tr>\n",
       "    <tr>\n",
       "      <th>6</th>\n",
       "      <td>BOS</td>\n",
       "      <td>0.6628</td>\n",
       "      <td>-0.710324</td>\n",
       "    </tr>\n",
       "    <tr>\n",
       "      <th>7</th>\n",
       "      <td>CHN</td>\n",
       "      <td>0.6667</td>\n",
       "      <td>-0.655666</td>\n",
       "    </tr>\n",
       "    <tr>\n",
       "      <th>8</th>\n",
       "      <td>NYN</td>\n",
       "      <td>0.6667</td>\n",
       "      <td>-0.655666</td>\n",
       "    </tr>\n",
       "    <tr>\n",
       "      <th>9</th>\n",
       "      <td>SEA</td>\n",
       "      <td>0.6747</td>\n",
       "      <td>-0.543548</td>\n",
       "    </tr>\n",
       "    <tr>\n",
       "      <th>10</th>\n",
       "      <td>COL</td>\n",
       "      <td>0.6765</td>\n",
       "      <td>-0.518321</td>\n",
       "    </tr>\n",
       "    <tr>\n",
       "      <th>11</th>\n",
       "      <td>MIL</td>\n",
       "      <td>0.6944</td>\n",
       "      <td>-0.267457</td>\n",
       "    </tr>\n",
       "    <tr>\n",
       "      <th>12</th>\n",
       "      <td>ANA</td>\n",
       "      <td>0.6947</td>\n",
       "      <td>-0.263252</td>\n",
       "    </tr>\n",
       "    <tr>\n",
       "      <th>13</th>\n",
       "      <td>CHA</td>\n",
       "      <td>0.7083</td>\n",
       "      <td>-0.072651</td>\n",
       "    </tr>\n",
       "    <tr>\n",
       "      <th>14</th>\n",
       "      <td>MIN</td>\n",
       "      <td>0.7183</td>\n",
       "      <td>0.067497</td>\n",
       "    </tr>\n",
       "    <tr>\n",
       "      <th>15</th>\n",
       "      <td>LAN</td>\n",
       "      <td>0.7262</td>\n",
       "      <td>0.178214</td>\n",
       "    </tr>\n",
       "    <tr>\n",
       "      <th>16</th>\n",
       "      <td>DET</td>\n",
       "      <td>0.7286</td>\n",
       "      <td>0.211849</td>\n",
       "    </tr>\n",
       "    <tr>\n",
       "      <th>17</th>\n",
       "      <td>SLN</td>\n",
       "      <td>0.7349</td>\n",
       "      <td>0.300143</td>\n",
       "    </tr>\n",
       "    <tr>\n",
       "      <th>18</th>\n",
       "      <td>PIT</td>\n",
       "      <td>0.7368</td>\n",
       "      <td>0.326771</td>\n",
       "    </tr>\n",
       "    <tr>\n",
       "      <th>19</th>\n",
       "      <td>TBA</td>\n",
       "      <td>0.7470</td>\n",
       "      <td>0.469722</td>\n",
       "    </tr>\n",
       "    <tr>\n",
       "      <th>20</th>\n",
       "      <td>CLE</td>\n",
       "      <td>0.7500</td>\n",
       "      <td>0.511766</td>\n",
       "    </tr>\n",
       "    <tr>\n",
       "      <th>21</th>\n",
       "      <td>SFN</td>\n",
       "      <td>0.7568</td>\n",
       "      <td>0.607067</td>\n",
       "    </tr>\n",
       "    <tr>\n",
       "      <th>22</th>\n",
       "      <td>ARI</td>\n",
       "      <td>0.7571</td>\n",
       "      <td>0.611271</td>\n",
       "    </tr>\n",
       "    <tr>\n",
       "      <th>23</th>\n",
       "      <td>NYA</td>\n",
       "      <td>0.7609</td>\n",
       "      <td>0.664527</td>\n",
       "    </tr>\n",
       "    <tr>\n",
       "      <th>24</th>\n",
       "      <td>SDN</td>\n",
       "      <td>0.7701</td>\n",
       "      <td>0.793463</td>\n",
       "    </tr>\n",
       "    <tr>\n",
       "      <th>25</th>\n",
       "      <td>WAS</td>\n",
       "      <td>0.7708</td>\n",
       "      <td>0.803274</td>\n",
       "    </tr>\n",
       "    <tr>\n",
       "      <th>26</th>\n",
       "      <td>ATL</td>\n",
       "      <td>0.7875</td>\n",
       "      <td>1.037321</td>\n",
       "    </tr>\n",
       "    <tr>\n",
       "      <th>27</th>\n",
       "      <td>OAK</td>\n",
       "      <td>0.8000</td>\n",
       "      <td>1.212506</td>\n",
       "    </tr>\n",
       "    <tr>\n",
       "      <th>28</th>\n",
       "      <td>CIN</td>\n",
       "      <td>0.8090</td>\n",
       "      <td>1.338639</td>\n",
       "    </tr>\n",
       "    <tr>\n",
       "      <th>29</th>\n",
       "      <td>TEX</td>\n",
       "      <td>0.8235</td>\n",
       "      <td>1.541854</td>\n",
       "    </tr>\n",
       "    <tr>\n",
       "      <th>30</th>\n",
       "      <td>MIA</td>\n",
       "      <td>0.8537</td>\n",
       "      <td>1.965100</td>\n",
       "    </tr>\n",
       "  </tbody>\n",
       "</table>\n",
       "</div>"
      ],
      "text/plain": [
       "   battingTeam  winPercentage   z-score\n",
       "0          HOU         0.5500 -2.291193\n",
       "1          TOR         0.5714 -1.991276\n",
       "2          FLO         0.6000 -1.590453\n",
       "3          BAL         0.6133 -1.404056\n",
       "4          KCA         0.6494 -0.898122\n",
       "5          PHI         0.6579 -0.778997\n",
       "6          BOS         0.6628 -0.710324\n",
       "7          CHN         0.6667 -0.655666\n",
       "8          NYN         0.6667 -0.655666\n",
       "9          SEA         0.6747 -0.543548\n",
       "10         COL         0.6765 -0.518321\n",
       "11         MIL         0.6944 -0.267457\n",
       "12         ANA         0.6947 -0.263252\n",
       "13         CHA         0.7083 -0.072651\n",
       "14         MIN         0.7183  0.067497\n",
       "15         LAN         0.7262  0.178214\n",
       "16         DET         0.7286  0.211849\n",
       "17         SLN         0.7349  0.300143\n",
       "18         PIT         0.7368  0.326771\n",
       "19         TBA         0.7470  0.469722\n",
       "20         CLE         0.7500  0.511766\n",
       "21         SFN         0.7568  0.607067\n",
       "22         ARI         0.7571  0.611271\n",
       "23         NYA         0.7609  0.664527\n",
       "24         SDN         0.7701  0.793463\n",
       "25         WAS         0.7708  0.803274\n",
       "26         ATL         0.7875  1.037321\n",
       "27         OAK         0.8000  1.212506\n",
       "28         CIN         0.8090  1.338639\n",
       "29         TEX         0.8235  1.541854\n",
       "30         MIA         0.8537  1.965100"
      ]
     },
     "execution_count": 4,
     "metadata": {},
     "output_type": "execute_result"
    }
   ],
   "source": [
    "local_path = 'lateInningsWins.csv'\n",
    "\n",
    "# Select the path that works for you \n",
    "file_path = local_path \n",
    "\n",
    "# Load the data into a DataFrame \n",
    "dfW= pd.read_csv(file_path)\n",
    "\n",
    "# Inspect some of the data\n",
    "dfW"
   ]
  },
  {
   "cell_type": "markdown",
   "metadata": {},
   "source": [
    "The data has columns for: \n",
    "\n",
    "- **battingTeam**: The name of the team \n",
    "- **winPercentage**: The winning percentage when leading by exactly 1 after 6 innings. \n",
    "- **zScore**: zScore of the winPercentage "
   ]
  },
  {
   "cell_type": "markdown",
   "metadata": {},
   "source": [
    "### Histograms of winning percentage \n",
    "\n",
    "Visual representations can help us understand data much better than seeing a column of data. We can plot a histogram in Python using the Pandas built-in histogram function. The Pandas' hist( ) function calls the Matplotlib hist( ) function internally, so if you're familiar with Matplotlib, it should be any easy transition to use the Pandas function. "
   ]
  },
  {
   "cell_type": "code",
   "execution_count": 5,
   "metadata": {},
   "outputs": [
    {
     "data": {
      "image/png": "[encoded data removed]",
      "text/plain": [
       "<matplotlib.figure.Figure at 0x1fa02124400>"
      ]
     },
     "metadata": {},
     "output_type": "display_data"
    }
   ],
   "source": [
    "# Initialize figure and axis\n",
    "fig, ax = plt.subplots(figsize=(8,4))\n",
    "\n",
    "# Plot histogram \n",
    "dfW.hist(column=\"winPercentage\", ax=ax);"
   ]
  },
  {
   "cell_type": "markdown",
   "metadata": {},
   "source": [
    "We made a basic histogram of the **winPercentage** data using Pandas' hist( ) function.  We call the hist( ) function on the entire DataFrame and then indicate which column we want to use using the $\\texttt{column}$ option.  Finally, we pass in the figure axis to the function so that we can make modifications to the layout later on. "
   ]
  },
  {
   "cell_type": "markdown",
   "metadata": {},
   "source": [
    "Using the basic histogram, Pandas does thebin selection automatically. We can also define our own bins by passing in an optional $\\texttt{bins}$ argument to hist( ).  The two options are to pass in an integer value for the number of bins you want _or_ a list specifying the bin edges. Suppose for example we want bins of width 0.025 starting at 0.55 and ending at 0.90.  We could do the following:  "
   ]
  },
  {
   "cell_type": "code",
   "execution_count": 6,
   "metadata": {},
   "outputs": [
    {
     "name": "stdout",
     "output_type": "stream",
     "text": [
      "bin edges =  [0.55000000000000004, 0.57058823529411773, 0.5911764705882353, 0.61176470588235299, 0.63235294117647067, 0.65294117647058825, 0.67352941176470593, 0.69411764705882351, 0.71470588235294119, 0.73529411764705888, 0.75588235294117645, 0.77647058823529413, 0.79705882352941182, 0.81764705882352939, 0.83823529411764708, 0.85882352941176476, 0.87941176470588234, 0.90000000000000002]\n"
     ]
    }
   ],
   "source": [
    "my_bins = np.linspace(0.55,0.90,18)\n",
    "print(\"bin edges = \", list(my_bins))"
   ]
  },
  {
   "cell_type": "code",
   "execution_count": 7,
   "metadata": {},
   "outputs": [
    {
     "data": {
      "image/png": "[encoded data removed]",
      "text/plain": [
       "<matplotlib.figure.Figure at 0x1fa0184de80>"
      ]
     },
     "metadata": {},
     "output_type": "display_data"
    }
   ],
   "source": [
    "# Initialize figure \n",
    "fig, ax = plt.subplots(figsize=(8,4))\n",
    "\n",
    "# Plot histogram \n",
    "dfW.hist(column=\"winPercentage\", ax=ax, bins=my_bins);"
   ]
  },
  {
   "cell_type": "markdown",
   "metadata": {},
   "source": [
    "We can also mess with other properties in the figure, such as a title, labels, and other colors to make it look more appealing.  "
   ]
  },
  {
   "cell_type": "code",
   "execution_count": 8,
   "metadata": {
    "scrolled": true
   },
   "outputs": [
    {
     "data": {
      "image/png": "[encoded data removed]",
      "text/plain": [
       "<matplotlib.figure.Figure at 0x1fa0184d828>"
      ]
     },
     "metadata": {},
     "output_type": "display_data"
    }
   ],
   "source": [
    "# Initialize figure \n",
    "fig, ax = plt.subplots(figsize=(8,4))\n",
    "\n",
    "# Plot histogram with custom colors\n",
    "dfW.hist(column=\"winPercentage\", ax=ax, bins=my_bins, facecolor=\"steelblue\", edgecolor=\"white\")\n",
    "\n",
    "# Add a title\n",
    "ax.set_title(\"Winning percentage when leading by one run after 6 innings\", fontsize=15)\n",
    "\n",
    "# Add axis labels \n",
    "ax.set_xlabel(\"Winning percentage\", fontsize=13)\n",
    "ax.set_ylabel(\"Frequency\", fontsize=16)\n",
    "\n",
    "# Make the grid lines lighter and put them behind data \n",
    "ax.grid(alpha=0.25)\n",
    "ax.set_axisbelow(True)\n"
   ]
  },
  {
   "cell_type": "markdown",
   "metadata": {},
   "source": [
    "### Exercise 1\n",
    "***\n",
    "Load the maxSalaries.csv file and make a histogram of the salary column. Include all teams and positions in your histogram. \n"
   ]
  },
  {
   "cell_type": "code",
   "execution_count": 10,
   "metadata": {},
   "outputs": [],
   "source": [
    "local_path = 'maxSalaries.csv'\n",
    "\n",
    "# Select the path that works for you \n",
    "file_path = local_path \n",
    "\n",
    "# Load the data into a DataFrame \n",
    "dfMS= pd.read_csv(file_path)"
   ]
  },
  {
   "cell_type": "code",
   "execution_count": 23,
   "metadata": {},
   "outputs": [
    {
     "data": {
      "image/png": "[encoded data removed]",
      "text/plain": [
       "<matplotlib.figure.Figure at 0x1fa02410860>"
      ]
     },
     "metadata": {},
     "output_type": "display_data"
    }
   ],
   "source": [
    "# Initialize figure \n",
    "fig, ax = plt.subplots(figsize=(8,4))\n",
    "\n",
    "# Plot histogram with custom colors\n",
    "dfMS['salary'].hist(ax=ax, bins=20,facecolor=\"steelblue\", edgecolor=\"white\")\n",
    "\n",
    "# Add a title\n",
    "ax.set_title(\"Max Salaries Histogram\", fontsize=15)\n",
    "\n",
    "# Add axis labels \n",
    "ax.set_xlabel(\"Salary (in $10s of millions)\", fontsize=13)\n",
    "ax.set_ylabel(\"Frequency\", fontsize=16)\n",
    "\n",
    "# Make the grid lines lighter and put them behind data \n",
    "ax.grid(alpha=0.25)\n",
    "ax.set_axisbelow(True)"
   ]
  },
  {
   "cell_type": "markdown",
   "metadata": {},
   "source": [
    "We can filter the data by a particular column and save that data as a new data frame. "
   ]
  },
  {
   "cell_type": "code",
   "execution_count": 11,
   "metadata": {},
   "outputs": [
    {
     "data": {
      "text/html": [
       "<div>\n",
       "<style>\n",
       "    .dataframe thead tr:only-child th {\n",
       "        text-align: right;\n",
       "    }\n",
       "\n",
       "    .dataframe thead th {\n",
       "        text-align: left;\n",
       "    }\n",
       "\n",
       "    .dataframe tbody tr th {\n",
       "        vertical-align: top;\n",
       "    }\n",
       "</style>\n",
       "<table border=\"1\" class=\"dataframe\">\n",
       "  <thead>\n",
       "    <tr style=\"text-align: right;\">\n",
       "      <th></th>\n",
       "      <th>teamID</th>\n",
       "      <th>playerID</th>\n",
       "      <th>salary</th>\n",
       "      <th>yearID</th>\n",
       "      <th>POS</th>\n",
       "    </tr>\n",
       "  </thead>\n",
       "  <tbody>\n",
       "    <tr>\n",
       "      <th>3</th>\n",
       "      <td>ARI</td>\n",
       "      <td>bellhe01</td>\n",
       "      <td>10000000</td>\n",
       "      <td>2013</td>\n",
       "      <td>P</td>\n",
       "    </tr>\n",
       "    <tr>\n",
       "      <th>4</th>\n",
       "      <td>ARI</td>\n",
       "      <td>greinza01</td>\n",
       "      <td>31799030</td>\n",
       "      <td>2016</td>\n",
       "      <td>P</td>\n",
       "    </tr>\n",
       "    <tr>\n",
       "      <th>14</th>\n",
       "      <td>ATL</td>\n",
       "      <td>lowede01</td>\n",
       "      <td>15000000</td>\n",
       "      <td>2010</td>\n",
       "      <td>P</td>\n",
       "    </tr>\n",
       "    <tr>\n",
       "      <th>16</th>\n",
       "      <td>ATL</td>\n",
       "      <td>lowede01</td>\n",
       "      <td>15000000</td>\n",
       "      <td>2011</td>\n",
       "      <td>P</td>\n",
       "    </tr>\n",
       "    <tr>\n",
       "      <th>17</th>\n",
       "      <td>ATL</td>\n",
       "      <td>cahiltr01</td>\n",
       "      <td>12000000</td>\n",
       "      <td>2015</td>\n",
       "      <td>P</td>\n",
       "    </tr>\n",
       "  </tbody>\n",
       "</table>\n",
       "</div>"
      ],
      "text/plain": [
       "   teamID   playerID    salary  yearID POS\n",
       "3     ARI   bellhe01  10000000    2013   P\n",
       "4     ARI  greinza01  31799030    2016   P\n",
       "14    ATL   lowede01  15000000    2010   P\n",
       "16    ATL   lowede01  15000000    2011   P\n",
       "17    ATL  cahiltr01  12000000    2015   P"
      ]
     },
     "execution_count": 11,
     "metadata": {},
     "output_type": "execute_result"
    }
   ],
   "source": [
    "pitchers = dfMS.loc[dfMS[\"POS\"] == \"P\"].copy()\n",
    "pitchers.head()"
   ]
  },
  {
   "cell_type": "markdown",
   "metadata": {},
   "source": [
    "Side-by-side or stacked histograms are a great way to compare two sets of data.  We can use our salary data to compare the salaries of pitchers with other players. We'll create histograms of **salary** data from our pitchers data frame and put all salary data in the other histogram. In order to make a true comparison, we need to set the range on the horizontal and vertical axes to be the same on both plots. "
   ]
  },
  {
   "cell_type": "code",
   "execution_count": 18,
   "metadata": {},
   "outputs": [
    {
     "data": {
      "image/png": "[encoded data removed]",
      "text/plain": [
       "<matplotlib.figure.Figure at 0x1fa0386bf98>"
      ]
     },
     "metadata": {},
     "output_type": "display_data"
    }
   ],
   "source": [
    "# Initialize figure subplots\n",
    "fig, axes = plt.subplots(nrows=2, ncols=1, figsize=(8,8))\n",
    "\n",
    "# --------------------------------------\n",
    "# Plot histogram for pitchers on top \n",
    "# --------------------------------------\n",
    "pitchers.hist(column=\"salary\", ax=axes[0], facecolor=\"steelblue\", edgecolor=\"white\")\n",
    "                                                      \n",
    "# Add titles and labels \n",
    "axes[0].set_title(\"Pitcher salaries\", fontsize=20)\n",
    "axes[0].set_xlabel(\"Salary\", fontsize=16)\n",
    "axes[0].set_ylabel(\"Frequency\", fontsize=16)\n",
    "\n",
    "# Make grid lighter and set behind data\n",
    "axes[0].grid(alpha=0.25)\n",
    "axes[0].set_axisbelow(True)\n",
    "\n",
    "# --------------------------------------\n",
    "# Plot histogram for non-pitchers on bottom \n",
    "# --------------------------------------\n",
    "dfMS.loc[dfMS[\"POS\"]!=\"P\"].hist(column=\"salary\", ax=axes[1], facecolor=\"green\", edgecolor=\"white\")\n",
    "                                                      \n",
    "# Add titles and labels \n",
    "axes[1].set_title(\"Non-pitcher salaries\", fontsize=20)\n",
    "axes[1].set_xlabel(\"Salary\", fontsize=16)\n",
    "axes[1].set_ylabel(\"Frequency\", fontsize=16)\n",
    "\n",
    "# Make grid lighter and set behind data\n",
    "axes[1].grid(alpha=0.25)\n",
    "axes[1].set_axisbelow(True)\n",
    "\n",
    "# --------------------------------------\n",
    "# Make the plots comparable \n",
    "# --------------------------------------\n",
    "\n",
    "# Set x and y axis limits to match\n",
    "minSal = dfMS['salary'].min()\n",
    "maxSal = dfMS['salary'].max()\n",
    "axes[0].set_xlim([minSal, maxSal])\n",
    "axes[1].set_xlim([minSal, maxSal])\n",
    "axes[0].set_ylim([0,40])\n",
    "axes[1].set_ylim([0,40]);\n",
    "\n",
    "# Adjust vertical space so titles/axis labels don't overlap \n",
    "fig.subplots_adjust(hspace=.5)"
   ]
  },
  {
   "cell_type": "markdown",
   "metadata": {},
   "source": [
    "Note that because we set the horizontal and vertical axis ranges to be the same we can easily make visual comparisons between the data.  For instance it is crystal clear that that it tends to be hotter in general in Sugarloaf than in Niwot. "
   ]
  },
  {
   "cell_type": "markdown",
   "metadata": {},
   "source": [
    "### Exercise 2\n",
    "***\n",
    "Make stacked histograms to compare the maximum salaries in 2015 and 2016. You can try different parameters until you find a style and color scheme that you like.  Add meaningful titles and axis labels! \n"
   ]
  },
  {
   "cell_type": "code",
   "execution_count": 25,
   "metadata": {},
   "outputs": [
    {
     "data": {
      "image/png": "[encoded data removed]",
      "text/plain": [
       "<matplotlib.figure.Figure at 0x1fa7fe6f6a0>"
      ]
     },
     "metadata": {},
     "output_type": "display_data"
    }
   ],
   "source": [
    "# Initialize figure subplots\n",
    "fig, axes = plt.subplots(nrows=2, ncols=1, figsize=(8,8))\n",
    "\n",
    "# --------------------------------------\n",
    "# Plot histogram for 2015\n",
    "# --------------------------------------\n",
    "dfMS.loc[dfMS[\"yearID\"]==2015].hist(column=\"salary\", ax=axes[0], facecolor=\"green\", edgecolor=\"white\")\n",
    "                                                      \n",
    "# Add titles and labels \n",
    "axes[0].set_title(\"2015 Max Salaries\", fontsize=20)\n",
    "axes[0].set_xlabel(\"Salary\", fontsize=16)\n",
    "axes[0].set_ylabel(\"Frequency\", fontsize=16)\n",
    "\n",
    "# Make grid lighter and set behind data\n",
    "axes[0].grid(alpha=0.25)\n",
    "axes[0].set_axisbelow(True)\n",
    "\n",
    "# --------------------------------------\n",
    "# Plot histogram for 2016\n",
    "# --------------------------------------\n",
    "dfMS.loc[dfMS[\"yearID\"]==2016].hist(column=\"salary\", ax=axes[1], facecolor=\"blue\", edgecolor=\"white\")\n",
    "                                                      \n",
    "# Add titles and labels \n",
    "axes[1].set_title(\"2016 Max Salaries\", fontsize=20)\n",
    "axes[1].set_xlabel(\"Salary\", fontsize=16)\n",
    "axes[1].set_ylabel(\"Frequency\", fontsize=16)\n",
    "\n",
    "# Make grid lighter and set behind data\n",
    "axes[1].grid(alpha=0.25)\n",
    "axes[1].set_axisbelow(True)\n",
    "\n",
    "# --------------------------------------\n",
    "# Make the plots comparable \n",
    "# --------------------------------------\n",
    "\n",
    "# Set x and y axis limits to match\n",
    "minSal = dfMS['salary'].min()\n",
    "maxSal = dfMS['salary'].max()\n",
    "axes[0].set_xlim([minSal, maxSal])\n",
    "axes[1].set_xlim([minSal, maxSal])\n",
    "axes[0].set_ylim([0,10])\n",
    "axes[1].set_ylim([0,10]);\n",
    "\n",
    "# Adjust vertical space so titles/axis labels don't overlap \n",
    "fig.subplots_adjust(hspace=.5)"
   ]
  },
  {
   "cell_type": "markdown",
   "metadata": {},
   "source": [
    "After you've gotten some decent _Frequency_ histograms, pass the parameter **normed=True** into the hist( ) function and redo the plots.  Note that you'll probably have to change the vertical axis limits.  How does the **normed=True** parameter change the histograms? "
   ]
  },
  {
   "cell_type": "code",
   "execution_count": 30,
   "metadata": {},
   "outputs": [
    {
     "data": {
      "image/png": "[encoded data removed]",
      "text/plain": [
       "<matplotlib.figure.Figure at 0x1fa03c67908>"
      ]
     },
     "metadata": {},
     "output_type": "display_data"
    }
   ],
   "source": [
    "# Initialize figure subplots\n",
    "fig, axes = plt.subplots(nrows=2, ncols=1, figsize=(8,8))\n",
    "\n",
    "# --------------------------------------\n",
    "# Plot histogram for 2015\n",
    "# --------------------------------------\n",
    "dfMS.loc[dfMS[\"yearID\"]==2015].hist(column=\"salary\", ax=axes[0], facecolor=\"green\", edgecolor=\"white\", normed=True)\n",
    "                                                      \n",
    "# Add titles and labels \n",
    "axes[0].set_title(\"2015 Max Salaries\", fontsize=20)\n",
    "axes[0].set_xlabel(\"Salary\", fontsize=16)\n",
    "axes[0].set_ylabel(\"Frequency\", fontsize=16)\n",
    "\n",
    "# Make grid lighter and set behind data\n",
    "axes[0].grid(alpha=0.25)\n",
    "axes[0].set_axisbelow(True)\n",
    "\n",
    "# --------------------------------------\n",
    "# Plot histogram for 2016\n",
    "# --------------------------------------\n",
    "dfMS.loc[dfMS[\"yearID\"]==2016].hist(column=\"salary\", ax=axes[1], facecolor=\"blue\", edgecolor=\"white\", normed=True)\n",
    "                                                      \n",
    "# Add titles and labels \n",
    "axes[1].set_title(\"2016 Max Salaries\", fontsize=20)\n",
    "axes[1].set_xlabel(\"Salary\", fontsize=16)\n",
    "axes[1].set_ylabel(\"Frequency\", fontsize=16)\n",
    "\n",
    "# Make grid lighter and set behind data\n",
    "axes[1].grid(alpha=0.25)\n",
    "axes[1].set_axisbelow(True)\n",
    "\n",
    "# --------------------------------------\n",
    "# Make the plots comparable \n",
    "# --------------------------------------\n",
    "\n",
    "# Set x and y axis limits to match\n",
    "minSal = dfMS['salary'].min()\n",
    "maxSal = dfMS['salary'].max()\n",
    "axes[0].set_xlim([minSal, maxSal])\n",
    "axes[1].set_xlim([minSal, maxSal])\n",
    "axes[0].set_ylim([0,.00000013])\n",
    "axes[1].set_ylim([0,.00000013]);\n",
    "\n",
    "# Adjust vertical space so titles/axis labels don't overlap \n",
    "fig.subplots_adjust(hspace=.5)"
   ]
  },
  {
   "cell_type": "markdown",
   "metadata": {},
   "source": [
    "### Summary statistics \n",
    "***\n",
    "\n",
    "Pandas provides built-in functions to calculate the summary statistics that we will use in this class. We can calculate the mean, standard deviation and IQR, for example. To calculate the mean of the salary data, we do:  "
   ]
  },
  {
   "cell_type": "code",
   "execution_count": 31,
   "metadata": {
    "scrolled": true
   },
   "outputs": [
    {
     "data": {
      "text/plain": [
       "16438873.016736401"
      ]
     },
     "execution_count": 31,
     "metadata": {},
     "output_type": "execute_result"
    }
   ],
   "source": [
    "dfMS['salary'].mean()"
   ]
  },
  {
   "cell_type": "markdown",
   "metadata": {},
   "source": [
    "We can also call mean on the entire data frame and get the mean of all **numerical** data. Pandas is seeing yearID as a numerical field and taking the mean, which isn't really useful."
   ]
  },
  {
   "cell_type": "code",
   "execution_count": 32,
   "metadata": {
    "scrolled": true
   },
   "outputs": [
    {
     "data": {
      "text/plain": [
       "salary    1.643887e+07\n",
       "yearID    2.012824e+03\n",
       "dtype: float64"
      ]
     },
     "execution_count": 32,
     "metadata": {},
     "output_type": "execute_result"
    }
   ],
   "source": [
    "dfMS.mean()"
   ]
  },
  {
   "cell_type": "markdown",
   "metadata": {},
   "source": [
    "We can also call mean on the entire data frame and get the mean of all **numerical** data. Pandas is seeing yearID as a numerical field and taking the mean, which isn't really useful.\n",
    "\n",
    "In this case, Pandas returned a Series with the means of all of the **numerical** data in the DataFrame. \n",
    "\n",
    "The functions for the other summary statistics are as follows: \n",
    "\n",
    "\\begin{array}{l|l}\n",
    "\\textrm{Function} & \\textrm{Statistics} \\\\\n",
    "\\hline\n",
    "\\textrm{.var()} & \\textrm{variance} \\\\\n",
    "\\textrm{.std()} & \\textrm{standard deviation} \\\\\n",
    "\\textrm{.min()} & \\textrm{minimum value} \\\\\n",
    "\\textrm{.max()} & \\textrm{maximum value} \\\\\n",
    "\\textrm{.median()} & \\textrm{value} \\\\\n",
    "\\textrm{.quantile(q)} & \\textrm{quantile, where q is the desired percentage as a decimal} \\\\\n",
    "\\end{array}"
   ]
  },
  {
   "cell_type": "markdown",
   "metadata": {},
   "source": [
    "### Exercise 3\n",
    "***\n",
    "Use these functions to compute the 5-number summary for the salary data."
   ]
  },
  {
   "cell_type": "code",
   "execution_count": null,
   "metadata": {
    "scrolled": true
   },
   "outputs": [],
   "source": [
    "minval = dfMS['salary'].min()\n",
    "maxval = # TODO \n",
    "Q1 = # TODO \n",
    "Q2 = # TODO \n",
    "Q3 = # TODO \n",
    "print(\"5-Number Summary: {:.2f}    {:.2f}    {:.2f}    {:.2f}    {:.2f}\".format(minval, Q1, Q2, Q3, maxval))"
   ]
  },
  {
   "cell_type": "markdown",
   "metadata": {},
   "source": [
    "### Box-and-Whisker Plots \n",
    "***\n",
    "\n",
    "Next we'll look at Pandas' box-and-whisker plot functionality using the boxplot( ) function.  We'll start by making a box-and-whisker plot for the salary data. Like the hist( ) function, boxplot( ) is called on the entire DataFrame, and then we specify which column we're interested in using the **column** parameter.  "
   ]
  },
  {
   "cell_type": "code",
   "execution_count": null,
   "metadata": {},
   "outputs": [],
   "source": [
    "# Initialize figure \n",
    "fig = plt.figure(figsize=(6,6))\n",
    "\n",
    "# Gat axis object \n",
    "ax = fig.add_subplot(111)\n",
    "\n",
    "# Plot histogram \n",
    "dfMS.boxplot(column=\"salary\", ax=ax);"
   ]
  },
  {
   "cell_type": "markdown",
   "metadata": {},
   "source": [
    "Note that the result is a standard box-and-whiskers plot with a box, where\n",
    "* The top of the box is Q3 - the upper quartile\n",
    "* The bottom of the box is Q1 - the lower quartile\n",
    "* The median line is in the middle of the box\n",
    "* Whisker lines are furthest points that are not outliers\n",
    "* Outliers that fall more than $1.5 \\times IQR$ outside of the nearest quartile. \n",
    "\n",
    "Unfortunately, the default parameters don't lend themselves well to easy-to-read plots, so we'll make a few tweaks. "
   ]
  },
  {
   "cell_type": "code",
   "execution_count": null,
   "metadata": {},
   "outputs": [],
   "source": [
    "# Initialize figure \n",
    "fig, ax = plt.subplots(figsize=(6,6))\n",
    "\n",
    "\n",
    "# Plot histogram, but this time return dictionary of style parameters for modification after the fact \n",
    "bp = dfMS.boxplot(column=\"salary\", ax=ax, widths=[.25], return_type='dict');\n",
    "\n",
    "# ---------------------------------------\n",
    "# Set properties of various parts of plot \n",
    "# ---------------------------------------\n",
    "\n",
    "# Change properties of boxes \n",
    "for box in bp['boxes']:\n",
    "    box.set(color='steelblue', linewidth=2)\n",
    "    \n",
    "# Change properties of whiskers \n",
    "for whisker in bp['whiskers']:\n",
    "    whisker.set(color='gray', linewidth=2)\n",
    "    \n",
    "# Change properties of caps \n",
    "for cap in bp['caps']:\n",
    "    cap.set(color='gray', linewidth=2)\n",
    "    \n",
    "# Change properties of median \n",
    "for cap in bp['medians']:\n",
    "    cap.set(color='green', linewidth=2, alpha=0.5)\n",
    "    \n",
    "# Change properties of fliers (outliers) \n",
    "for flier in bp['fliers']:\n",
    "    flier.set(markerfacecolor='steelblue', linewidth=2, marker='s', markersize=6, alpha=0.5)\n",
    "\n",
    "# Set title and vertical axis label\n",
    "ax.set_title('Max salaries per team 2010-2016', fontsize=18)\n",
    "ax.set_ylabel(\"$\", fontsize=16)\n",
    "\n",
    "# Make grid-lines lighter\n",
    "ax.grid(alpha=0.25)"
   ]
  },
  {
   "cell_type": "markdown",
   "metadata": {},
   "source": [
    "Notice that the default settings for boxplot( ) gives us whiskers and outliers as described in lecture.  That is, the length of the whiskers are set equal to the largest distance between an observation and the upper or lower quartile that is less than $1.5 \\times IQR$.  Any data point beyond this distance is drawn as an outlier (or a _flier_ as Pandas calls them).   \n",
    "\n",
    "Box-and-whisker plots are great for visualizing the spread of the data, outliers, and skew of the data.  For instance, from this box-and-whisker plot we can tell that the data is symetric because the median is evenly between the upper quartile $Q_3$ and the lower quartile $Q_1$. The data also includes outliers in the higher salary range. \n",
    "\n",
    "Box-and-whisker plots are especially useful for comparing multiple sets of observations.  For instance, we can use side-by-side box-and-whisker plots to compare the salaries at different positions. We already created a data frame from the pitchers data. We could compare pitchers to outfielders, for example.\n",
    "\n",
    "Note that the trick here is to select the rows of the DataFrame corresponding only to POS = P or POS = OF and then call boxplot( ) with the **by** parameter to break the data into the two sets based on the value of the **POS** column.  "
   ]
  },
  {
   "cell_type": "code",
   "execution_count": 35,
   "metadata": {},
   "outputs": [
    {
     "name": "stderr",
     "output_type": "stream",
     "text": [
      "C:\\Anaconda\\lib\\site-packages\\numpy\\core\\fromnumeric.py:57: FutureWarning: reshape is deprecated and will raise in a subsequent release. Please use .values.reshape(...) instead\n",
      "  return getattr(obj, method)(*args, **kwds)\n"
     ]
    },
    {
     "data": {
      "image/png": "[encoded data removed]",
      "text/plain": [
       "<matplotlib.figure.Figure at 0x1fa03ab2710>"
      ]
     },
     "metadata": {},
     "output_type": "display_data"
    }
   ],
   "source": [
    "# Initialize figure \n",
    "fig, ax = plt.subplots(figsize=(6,8))\n",
    "\n",
    "# To get just the columns corresponding to P and OF, we \n",
    "# select only the rows of the DataFrame coresponding to those names, then \n",
    "# call boxplot and pass by=\"POS\" to break the data into the two sets \n",
    "bp = dfMS.loc[(dfMS[\"POS\"]=='P') | (dfMS[\"POS\"]=='2B')].boxplot(\n",
    "    column=[\"salary\"], by=\"POS\", ax=ax, widths=[.5, .5], return_type=\"dict\")\n",
    "\n",
    "# This time, bp is a Pandas series containing multiple dictionaries\n",
    "# corresponding to the two sets of data. We loop over each one individually \n",
    "# and set the parameters we want \n",
    "for column in bp:\n",
    "    \n",
    "    # Change properties in boxes \n",
    "    for box in column['boxes']:\n",
    "        box.set(color='steelblue', linewidth=2)\n",
    "    \n",
    "    # Change properties of whiskers \n",
    "    for whisker in column['whiskers']:\n",
    "        whisker.set(color='gray', linewidth=2)\n",
    "\n",
    "    # Change properties of caps \n",
    "    for cap in column['caps']:\n",
    "        cap.set(color='gray', linewidth=2)\n",
    "\n",
    "    # Change properties of median \n",
    "    for cap in column['medians']:\n",
    "        cap.set(color='green', linewidth=2, alpha=0.5)\n",
    "\n",
    "    # Change properties of fliers (outliers) \n",
    "    for cap in column['fliers']:\n",
    "        cap.set(markerfacecolor='steelblue', linewidth=2, marker='s', markersize=6, alpha=0.5)\n",
    "\n",
    "# Set title and vertical axis label\n",
    "ax.set_title('Pitchers vs. Outfielders', fontsize=18)\n",
    "ax.set_ylabel(\"salary\", fontsize=16)\n",
    "\n",
    "# Set names of plots\n",
    "plt.xticks([1,2],[\"Pitchers\", \"Outfielders\"], rotation=0, fontsize=16)\n",
    "\n",
    "# Get rid of automatically generated titles and xlables\n",
    "plt.suptitle(\"\")\n",
    "ax.set_xlabel(\"\")\n",
    "\n",
    "# Make grid-lines lighter\n",
    "ax.grid(alpha=0.25);"
   ]
  },
  {
   "cell_type": "markdown",
   "metadata": {},
   "source": [
    "From the side-by-side box-and-whiskers plots we can easily see several things \n",
    "\n",
    "- Outfielders have a larger salary range than pitchers\n",
    "- Outfielders are positively skewed, while pitchers are symetric \n",
    "- There is more variability in the middle 50% of the Outfielders data than in the middle 50% of the pitchers data"
   ]
  },
  {
   "cell_type": "markdown",
   "metadata": {},
   "source": [
    "### Exercise 4\n",
    "***\n",
    "\n",
    "Plot side-by-side box and whisker plots of the salary data for **all** positions individually. You might need to modify the plot parameters until you get a graphic that doesn't look too cramped.  Note that it might be helpful to make the figure much wider and rotate the horizontal labels 90 degrees. "
   ]
  },
  {
   "cell_type": "code",
   "execution_count": null,
   "metadata": {
    "collapsed": true
   },
   "outputs": [],
   "source": []
  },
  {
   "cell_type": "markdown",
   "metadata": {},
   "source": [
    "### Exercise 5\n",
    "***\n",
    "\n",
    "Produce a box and whisker plot of the winning pecentage data. Comment on how the box and whisker plot compares to the histogram for the same data. "
   ]
  },
  {
   "cell_type": "code",
   "execution_count": null,
   "metadata": {
    "collapsed": true
   },
   "outputs": [],
   "source": []
  }
 ],
 "metadata": {
  "kernelspec": {
   "display_name": "Python 3",
   "language": "python",
   "name": "python3"
  },
  "language_info": {
   "codemirror_mode": {
    "name": "ipython",
    "version": 3
   },
   "file_extension": ".py",
   "mimetype": "text/x-python",
   "name": "python",
   "nbconvert_exporter": "python",
   "pygments_lexer": "ipython3",
   "version": "3.6.3"
  }
 },
 "nbformat": 4,
 "nbformat_minor": 2
}
